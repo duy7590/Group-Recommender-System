{
  "nbformat": 4,
  "nbformat_minor": 0,
  "metadata": {
    "colab": {
      "name": "\u001bDuy_Assignment 2",
      "provenance": [],
      "toc_visible": true
    },
    "kernelspec": {
      "name": "python3",
      "display_name": "Python 3"
    }
  },
  "cells": [
    {
      "cell_type": "markdown",
      "metadata": {
        "id": "fW3394EB7Kkb"
      },
      "source": [
        "# Combined version\n"
      ]
    },
    {
      "cell_type": "code",
      "metadata": {
        "id": "Du5PeedcFZ3Y"
      },
      "source": [
        "# All our intelligence together in this version\n",
        "\n",
        "import numpy as np\n",
        "import pandas as pd\n",
        "\n",
        "#Load the data and some pre-processing step\n",
        "path = 'https://raw.githubusercontent.com/duy7590/Group-Recommender-System/main/ratings.csv'\n",
        "df = pd.read_csv(path, sep=',')\n",
        "\n",
        "#Merge titles and prettify\n",
        "path_titles = \"https://raw.githubusercontent.com/duy7590/Group-Recommender-System/main/movies.csv\"\n",
        "movie_titles = pd.read_csv(path_titles)\n",
        "df = pd.merge(df,movie_titles,on='movieId')\n",
        "df = df.drop(labels=['timestamp'], axis=1)\n",
        "df = df.drop(labels=['genres'], axis=1)\n",
        "df = df.drop(labels=['title'], axis=1) # The titles look cool in the print, but movieId is safer solution."
      ],
      "execution_count": 5,
      "outputs": []
    },
    {
      "cell_type": "code",
      "metadata": {
        "id": "pzJzJUDflNSi",
        "outputId": "68577a73-e70e-4cac-9454-4f36e3cb889b",
        "colab": {
          "base_uri": "https://localhost:8080/",
          "height": 406
        }
      },
      "source": [
        "df"
      ],
      "execution_count": 6,
      "outputs": [
        {
          "output_type": "execute_result",
          "data": {
            "text/html": [
              "<div>\n",
              "<style scoped>\n",
              "    .dataframe tbody tr th:only-of-type {\n",
              "        vertical-align: middle;\n",
              "    }\n",
              "\n",
              "    .dataframe tbody tr th {\n",
              "        vertical-align: top;\n",
              "    }\n",
              "\n",
              "    .dataframe thead th {\n",
              "        text-align: right;\n",
              "    }\n",
              "</style>\n",
              "<table border=\"1\" class=\"dataframe\">\n",
              "  <thead>\n",
              "    <tr style=\"text-align: right;\">\n",
              "      <th></th>\n",
              "      <th>userId</th>\n",
              "      <th>movieId</th>\n",
              "      <th>rating</th>\n",
              "    </tr>\n",
              "  </thead>\n",
              "  <tbody>\n",
              "    <tr>\n",
              "      <th>0</th>\n",
              "      <td>1</td>\n",
              "      <td>1</td>\n",
              "      <td>4.0</td>\n",
              "    </tr>\n",
              "    <tr>\n",
              "      <th>1</th>\n",
              "      <td>5</td>\n",
              "      <td>1</td>\n",
              "      <td>4.0</td>\n",
              "    </tr>\n",
              "    <tr>\n",
              "      <th>2</th>\n",
              "      <td>7</td>\n",
              "      <td>1</td>\n",
              "      <td>4.5</td>\n",
              "    </tr>\n",
              "    <tr>\n",
              "      <th>3</th>\n",
              "      <td>15</td>\n",
              "      <td>1</td>\n",
              "      <td>2.5</td>\n",
              "    </tr>\n",
              "    <tr>\n",
              "      <th>4</th>\n",
              "      <td>17</td>\n",
              "      <td>1</td>\n",
              "      <td>4.5</td>\n",
              "    </tr>\n",
              "    <tr>\n",
              "      <th>...</th>\n",
              "      <td>...</td>\n",
              "      <td>...</td>\n",
              "      <td>...</td>\n",
              "    </tr>\n",
              "    <tr>\n",
              "      <th>100831</th>\n",
              "      <td>610</td>\n",
              "      <td>160341</td>\n",
              "      <td>2.5</td>\n",
              "    </tr>\n",
              "    <tr>\n",
              "      <th>100832</th>\n",
              "      <td>610</td>\n",
              "      <td>160527</td>\n",
              "      <td>4.5</td>\n",
              "    </tr>\n",
              "    <tr>\n",
              "      <th>100833</th>\n",
              "      <td>610</td>\n",
              "      <td>160836</td>\n",
              "      <td>3.0</td>\n",
              "    </tr>\n",
              "    <tr>\n",
              "      <th>100834</th>\n",
              "      <td>610</td>\n",
              "      <td>163937</td>\n",
              "      <td>3.5</td>\n",
              "    </tr>\n",
              "    <tr>\n",
              "      <th>100835</th>\n",
              "      <td>610</td>\n",
              "      <td>163981</td>\n",
              "      <td>3.5</td>\n",
              "    </tr>\n",
              "  </tbody>\n",
              "</table>\n",
              "<p>100836 rows × 3 columns</p>\n",
              "</div>"
            ],
            "text/plain": [
              "        userId  movieId  rating\n",
              "0            1        1     4.0\n",
              "1            5        1     4.0\n",
              "2            7        1     4.5\n",
              "3           15        1     2.5\n",
              "4           17        1     4.5\n",
              "...        ...      ...     ...\n",
              "100831     610   160341     2.5\n",
              "100832     610   160527     4.5\n",
              "100833     610   160836     3.0\n",
              "100834     610   163937     3.5\n",
              "100835     610   163981     3.5\n",
              "\n",
              "[100836 rows x 3 columns]"
            ]
          },
          "metadata": {
            "tags": []
          },
          "execution_count": 6
        }
      ]
    },
    {
      "cell_type": "code",
      "metadata": {
        "id": "-hc0UiSvkvbH"
      },
      "source": [
        "# This part is the similarity computation using Duy's code\n",
        "df1 = df.pivot_table(index='movieId', columns='userId', values='rating')\n",
        "df1.head()\n",
        "\n",
        "matrix_corr_user = df1.corr(method='pearson').fillna(0) #User similarity matrix"
      ],
      "execution_count": 7,
      "outputs": []
    },
    {
      "cell_type": "code",
      "metadata": {
        "id": "IBi2Ku_JlrAQ",
        "outputId": "f04e7d08-8110-48b5-f9c4-70b677c55234",
        "colab": {
          "base_uri": "https://localhost:8080/"
        }
      },
      "source": [
        "# Predictions computation for individual users using Duy's code\n",
        "mean_user_rating = df1.mean(axis=1) #mean rating of each movies\n",
        "#You use np.newaxis so that mean_user_rating has same format as ratings\n",
        "ratings_diff = (df1 - mean_user_rating[:, np.newaxis]).fillna(0)\n",
        "#Prediction based on user-similarity and pearson correlation formula \n",
        "pred = mean_user_rating[:, np.newaxis] + (matrix_corr_user.dot(ratings_diff.T) / np.array([np.abs(matrix_corr_user).sum()]).T).T"
      ],
      "execution_count": 8,
      "outputs": [
        {
          "output_type": "stream",
          "text": [
            "/usr/local/lib/python3.6/dist-packages/ipykernel_launcher.py:4: FutureWarning: Support for multi-dimensional indexing (e.g. `obj[:, None]`) is deprecated and will be removed in a future version.  Convert to a numpy array before indexing instead.\n",
            "  after removing the cwd from sys.path.\n",
            "/usr/local/lib/python3.6/dist-packages/ipykernel_launcher.py:6: FutureWarning: Support for multi-dimensional indexing (e.g. `obj[:, None]`) is deprecated and will be removed in a future version.  Convert to a numpy array before indexing instead.\n",
            "  \n"
          ],
          "name": "stderr"
        }
      ]
    },
    {
      "cell_type": "code",
      "metadata": {
        "id": "EMACSwVfEoAP"
      },
      "source": [
        ""
      ],
      "execution_count": null,
      "outputs": []
    },
    {
      "cell_type": "code",
      "metadata": {
        "id": "foQlHLQ9lmfQ",
        "outputId": "988d1c97-11db-4167-893d-ef9631682a3e",
        "colab": {
          "base_uri": "https://localhost:8080/"
        }
      },
      "source": [
        "# Due to the reason that some items only have few ratings, it could cause prediction bias.\n",
        "# We accept only movies, whose rating count exceeds a certain threshold.\n",
        "\n",
        "necessary_ratings = 100  # We have to discuss this later\n",
        "movie_list = []\n",
        "for i in range(len(pred)):\n",
        "    if df1.iloc[i].count() > necessary_ratings:\n",
        "        movie_list.append(df1.iloc[i].name)\n",
        "    else:\n",
        "        pass\n",
        "print('Number of movies that has more than ' + str(necessary_ratings) + ' ratings: '+str(len(movie_list)))\n",
        "\n",
        "test_list = np.array(movie_list)"
      ],
      "execution_count": 9,
      "outputs": [
        {
          "output_type": "stream",
          "text": [
            "Number of movies that has more than 100 ratings: 134\n"
          ],
          "name": "stdout"
        }
      ]
    },
    {
      "cell_type": "code",
      "metadata": {
        "id": "wIdWnuXCF28a"
      },
      "source": [
        "def find_unseen_movies(user1, user2, user3, data):\n",
        "    \n",
        "    data1 = data.loc[data['userId']==user1] # Data where user1 has ratings\n",
        "    mask1 = ~data['movieId'].isin(data1['movieId']) # Drops the movies of 1\n",
        "    data_left1 = data[mask1] # What remains after user1\n",
        "    \n",
        "    data2 = data.loc[data['userId']==user2] # Data where user2 has ratings\n",
        "    mask2 = ~data_left1['movieId'].isin(data2['movieId']) # Dropping off\n",
        "    data_left2 = data_left1[mask2] # What remains after user2 \n",
        "    \n",
        "    data3 = data.loc[data['userId']==user3] # Data where user3 has ratings\n",
        "    mask3 = ~data_left2['movieId'].isin(data3['movieId'])\n",
        "    data_left3 = data_left2[mask3]  # Here are only unseen movies\n",
        "    \n",
        "    # Numpy array of unique values of the rest of the movieIds\n",
        "    return data_left3['movieId'].unique()"
      ],
      "execution_count": 10,
      "outputs": []
    },
    {
      "cell_type": "code",
      "metadata": {
        "id": "h50Pi5qEveRA",
        "outputId": "f06c8bf6-4a20-4194-f1d6-5b4ccf268b94",
        "colab": {
          "base_uri": "https://localhost:8080/"
        }
      },
      "source": [
        "# Choosing the users for demonstration part\n",
        "user1 = 1\n",
        "user2 = 2\n",
        "user3 = 3\n",
        "\n",
        "# Testing the approaches for 3 users\n",
        "print()\n",
        "print('The users chosen for testing are ' + str(user1) + ', ', end='')\n",
        "print(str(user2) + ' and ' + str(user3))\n",
        "print()\n",
        "\n",
        "print('Assumption made here is, that only such movies that none of ', end='')\n",
        "print('the test users have rated, are taken into recommendations.')\n",
        "print()\n",
        "\n",
        "unseen_movies = find_unseen_movies(user1, user2, user3, df) # Array"
      ],
      "execution_count": 11,
      "outputs": [
        {
          "output_type": "stream",
          "text": [
            "\n",
            "The users chosen for testing are 1, 2 and 3\n",
            "\n",
            "Assumption made here is, that only such movies that none of the test users have rated, are taken into recommendations.\n",
            "\n"
          ],
          "name": "stdout"
        }
      ]
    },
    {
      "cell_type": "code",
      "metadata": {
        "id": "1VagziTbMWNJ"
      },
      "source": [
        "# This is the table for storaging the individual predictions of the test users.\n",
        "predicts = pd.DataFrame(data=None, index=test_list)\n",
        "predicts.index.name = 'movieId'\n",
        "\n",
        "predict1 = pred[user1]\n",
        "predict2 = pred[user2]\n",
        "predict3 = pred[user3]\n",
        "\n",
        "predicts = predicts.merge(predict1, how='left', on='movieId')\n",
        "predicts = predicts.merge(predict2, how='left', on='movieId')\n",
        "predicts = predicts.merge(predict3, how='left', on='movieId')\n",
        "\n",
        "predicts.columns=['predict1', 'predict2', 'predict3']"
      ],
      "execution_count": 12,
      "outputs": []
    },
    {
      "cell_type": "code",
      "metadata": {
        "id": "3q_gIvShPVdm",
        "outputId": "1c790b62-f2a7-48ff-d596-29ab80420f57",
        "colab": {
          "base_uri": "https://localhost:8080/",
          "height": 227
        }
      },
      "source": [
        "predicts[0:5]"
      ],
      "execution_count": 13,
      "outputs": [
        {
          "output_type": "execute_result",
          "data": {
            "text/html": [
              "<div>\n",
              "<style scoped>\n",
              "    .dataframe tbody tr th:only-of-type {\n",
              "        vertical-align: middle;\n",
              "    }\n",
              "\n",
              "    .dataframe tbody tr th {\n",
              "        vertical-align: top;\n",
              "    }\n",
              "\n",
              "    .dataframe thead th {\n",
              "        text-align: right;\n",
              "    }\n",
              "</style>\n",
              "<table border=\"1\" class=\"dataframe\">\n",
              "  <thead>\n",
              "    <tr style=\"text-align: right;\">\n",
              "      <th></th>\n",
              "      <th>predict1</th>\n",
              "      <th>predict2</th>\n",
              "      <th>predict3</th>\n",
              "    </tr>\n",
              "    <tr>\n",
              "      <th>movieId</th>\n",
              "      <th></th>\n",
              "      <th></th>\n",
              "      <th></th>\n",
              "    </tr>\n",
              "  </thead>\n",
              "  <tbody>\n",
              "    <tr>\n",
              "      <th>1</th>\n",
              "      <td>3.898379</td>\n",
              "      <td>3.869372</td>\n",
              "      <td>3.914575</td>\n",
              "    </tr>\n",
              "    <tr>\n",
              "      <th>2</th>\n",
              "      <td>3.417943</td>\n",
              "      <td>3.461920</td>\n",
              "      <td>3.482031</td>\n",
              "    </tr>\n",
              "    <tr>\n",
              "      <th>6</th>\n",
              "      <td>3.935026</td>\n",
              "      <td>3.937365</td>\n",
              "      <td>4.061274</td>\n",
              "    </tr>\n",
              "    <tr>\n",
              "      <th>10</th>\n",
              "      <td>3.472662</td>\n",
              "      <td>3.585496</td>\n",
              "      <td>3.530641</td>\n",
              "    </tr>\n",
              "    <tr>\n",
              "      <th>32</th>\n",
              "      <td>3.992793</td>\n",
              "      <td>3.966754</td>\n",
              "      <td>3.995862</td>\n",
              "    </tr>\n",
              "  </tbody>\n",
              "</table>\n",
              "</div>"
            ],
            "text/plain": [
              "         predict1  predict2  predict3\n",
              "movieId                              \n",
              "1        3.898379  3.869372  3.914575\n",
              "2        3.417943  3.461920  3.482031\n",
              "6        3.935026  3.937365  4.061274\n",
              "10       3.472662  3.585496  3.530641\n",
              "32       3.992793  3.966754  3.995862"
            ]
          },
          "metadata": {
            "tags": []
          },
          "execution_count": 13
        }
      ]
    },
    {
      "cell_type": "code",
      "metadata": {
        "id": "MBBcmwpVF23p",
        "outputId": "2b0f1c94-eea0-4b58-c9f1-8fa882f4497e",
        "colab": {
          "base_uri": "https://localhost:8080/"
        }
      },
      "source": [
        "print('The top 20 recommended movies for this group, using i) average method:')\n",
        "print()\n",
        "\n",
        "# Compute and storage the average ratings\n",
        "predicts['average'] = predicts.loc[:,\n",
        "        ['predict1', 'predict2', 'predict3']].mean(axis=1)\n",
        "# Inter-storage for the movies sorted by average\n",
        "ave = predicts.sort_values(by='average', ascending=False)\n",
        "\n",
        "# Pretty printing of the movieIds\n",
        "for i in range(20):\n",
        "    print(ave.iloc[i].name, end=' ')\n",
        "print()\n",
        "print()"
      ],
      "execution_count": 14,
      "outputs": [
        {
          "output_type": "stream",
          "text": [
            "The top 20 recommended movies for this group, using i) average method:\n",
            "\n",
            "858 318 58559 48516 2959 1221 260 1196 1213 2329 1198 2028 2571 50 1208 1089 1197 4973 7361 296 \n",
            "\n"
          ],
          "name": "stdout"
        }
      ]
    },
    {
      "cell_type": "code",
      "metadata": {
        "id": "4JHteoDxRrRp",
        "outputId": "84e40cb0-e3b2-42d3-96f8-7725f1ed1579",
        "colab": {
          "base_uri": "https://localhost:8080/",
          "height": 436
        }
      },
      "source": [
        "predicts"
      ],
      "execution_count": 15,
      "outputs": [
        {
          "output_type": "execute_result",
          "data": {
            "text/html": [
              "<div>\n",
              "<style scoped>\n",
              "    .dataframe tbody tr th:only-of-type {\n",
              "        vertical-align: middle;\n",
              "    }\n",
              "\n",
              "    .dataframe tbody tr th {\n",
              "        vertical-align: top;\n",
              "    }\n",
              "\n",
              "    .dataframe thead th {\n",
              "        text-align: right;\n",
              "    }\n",
              "</style>\n",
              "<table border=\"1\" class=\"dataframe\">\n",
              "  <thead>\n",
              "    <tr style=\"text-align: right;\">\n",
              "      <th></th>\n",
              "      <th>predict1</th>\n",
              "      <th>predict2</th>\n",
              "      <th>predict3</th>\n",
              "      <th>average</th>\n",
              "    </tr>\n",
              "    <tr>\n",
              "      <th>movieId</th>\n",
              "      <th></th>\n",
              "      <th></th>\n",
              "      <th></th>\n",
              "      <th></th>\n",
              "    </tr>\n",
              "  </thead>\n",
              "  <tbody>\n",
              "    <tr>\n",
              "      <th>1</th>\n",
              "      <td>3.898379</td>\n",
              "      <td>3.869372</td>\n",
              "      <td>3.914575</td>\n",
              "      <td>3.894109</td>\n",
              "    </tr>\n",
              "    <tr>\n",
              "      <th>2</th>\n",
              "      <td>3.417943</td>\n",
              "      <td>3.461920</td>\n",
              "      <td>3.482031</td>\n",
              "      <td>3.453965</td>\n",
              "    </tr>\n",
              "    <tr>\n",
              "      <th>6</th>\n",
              "      <td>3.935026</td>\n",
              "      <td>3.937365</td>\n",
              "      <td>4.061274</td>\n",
              "      <td>3.977888</td>\n",
              "    </tr>\n",
              "    <tr>\n",
              "      <th>10</th>\n",
              "      <td>3.472662</td>\n",
              "      <td>3.585496</td>\n",
              "      <td>3.530641</td>\n",
              "      <td>3.529600</td>\n",
              "    </tr>\n",
              "    <tr>\n",
              "      <th>32</th>\n",
              "      <td>3.992793</td>\n",
              "      <td>3.966754</td>\n",
              "      <td>3.995862</td>\n",
              "      <td>3.985136</td>\n",
              "    </tr>\n",
              "    <tr>\n",
              "      <th>...</th>\n",
              "      <td>...</td>\n",
              "      <td>...</td>\n",
              "      <td>...</td>\n",
              "      <td>...</td>\n",
              "    </tr>\n",
              "    <tr>\n",
              "      <th>48516</th>\n",
              "      <td>4.276681</td>\n",
              "      <td>4.322131</td>\n",
              "      <td>4.238543</td>\n",
              "      <td>4.279119</td>\n",
              "    </tr>\n",
              "    <tr>\n",
              "      <th>58559</th>\n",
              "      <td>4.226314</td>\n",
              "      <td>4.320131</td>\n",
              "      <td>4.292878</td>\n",
              "      <td>4.279774</td>\n",
              "    </tr>\n",
              "    <tr>\n",
              "      <th>60069</th>\n",
              "      <td>4.058605</td>\n",
              "      <td>4.099338</td>\n",
              "      <td>4.068206</td>\n",
              "      <td>4.075383</td>\n",
              "    </tr>\n",
              "    <tr>\n",
              "      <th>68954</th>\n",
              "      <td>4.016408</td>\n",
              "      <td>4.002610</td>\n",
              "      <td>3.968902</td>\n",
              "      <td>3.995973</td>\n",
              "    </tr>\n",
              "    <tr>\n",
              "      <th>79132</th>\n",
              "      <td>4.107504</td>\n",
              "      <td>4.039245</td>\n",
              "      <td>4.053531</td>\n",
              "      <td>4.066760</td>\n",
              "    </tr>\n",
              "  </tbody>\n",
              "</table>\n",
              "<p>134 rows × 4 columns</p>\n",
              "</div>"
            ],
            "text/plain": [
              "         predict1  predict2  predict3   average\n",
              "movieId                                        \n",
              "1        3.898379  3.869372  3.914575  3.894109\n",
              "2        3.417943  3.461920  3.482031  3.453965\n",
              "6        3.935026  3.937365  4.061274  3.977888\n",
              "10       3.472662  3.585496  3.530641  3.529600\n",
              "32       3.992793  3.966754  3.995862  3.985136\n",
              "...           ...       ...       ...       ...\n",
              "48516    4.276681  4.322131  4.238543  4.279119\n",
              "58559    4.226314  4.320131  4.292878  4.279774\n",
              "60069    4.058605  4.099338  4.068206  4.075383\n",
              "68954    4.016408  4.002610  3.968902  3.995973\n",
              "79132    4.107504  4.039245  4.053531  4.066760\n",
              "\n",
              "[134 rows x 4 columns]"
            ]
          },
          "metadata": {
            "tags": []
          },
          "execution_count": 15
        }
      ]
    },
    {
      "cell_type": "code",
      "metadata": {
        "id": "zyxDsBarPkDA",
        "outputId": "60cf1a3a-416a-47e8-b433-8aba9266a1fd",
        "colab": {
          "base_uri": "https://localhost:8080/"
        }
      },
      "source": [
        "print('The top 20 recommended movies for this group, using ii) least misery method:')\n",
        "print()\n",
        "\n",
        "predicts['min_pred'] = predicts[['predict1', 'predict2', 'predict3']].min(axis=1)\n",
        "least_mis = predicts.sort_values(by='min_pred', ascending=False)\n",
        "\n",
        "# Pretty printing \n",
        "for j in range(20):\n",
        "    print(least_mis.iloc[j].name, end=' ')\n",
        "print()"
      ],
      "execution_count": 16,
      "outputs": [
        {
          "output_type": "stream",
          "text": [
            "The top 20 recommended movies for this group, using ii) least misery method:\n",
            "\n",
            "858 48516 1221 58559 1213 2959 1198 2329 260 318 1197 2571 1208 1196 1089 7153 4973 7361 2028 50 \n"
          ],
          "name": "stdout"
        }
      ]
    },
    {
      "cell_type": "code",
      "metadata": {
        "id": "sfmYhb59SG22",
        "outputId": "cfd9de22-e3b4-4d85-a5b0-b1e428989ac2",
        "colab": {
          "base_uri": "https://localhost:8080/",
          "height": 436
        }
      },
      "source": [
        "predicts"
      ],
      "execution_count": 17,
      "outputs": [
        {
          "output_type": "execute_result",
          "data": {
            "text/html": [
              "<div>\n",
              "<style scoped>\n",
              "    .dataframe tbody tr th:only-of-type {\n",
              "        vertical-align: middle;\n",
              "    }\n",
              "\n",
              "    .dataframe tbody tr th {\n",
              "        vertical-align: top;\n",
              "    }\n",
              "\n",
              "    .dataframe thead th {\n",
              "        text-align: right;\n",
              "    }\n",
              "</style>\n",
              "<table border=\"1\" class=\"dataframe\">\n",
              "  <thead>\n",
              "    <tr style=\"text-align: right;\">\n",
              "      <th></th>\n",
              "      <th>predict1</th>\n",
              "      <th>predict2</th>\n",
              "      <th>predict3</th>\n",
              "      <th>average</th>\n",
              "      <th>min_pred</th>\n",
              "    </tr>\n",
              "    <tr>\n",
              "      <th>movieId</th>\n",
              "      <th></th>\n",
              "      <th></th>\n",
              "      <th></th>\n",
              "      <th></th>\n",
              "      <th></th>\n",
              "    </tr>\n",
              "  </thead>\n",
              "  <tbody>\n",
              "    <tr>\n",
              "      <th>1</th>\n",
              "      <td>3.898379</td>\n",
              "      <td>3.869372</td>\n",
              "      <td>3.914575</td>\n",
              "      <td>3.894109</td>\n",
              "      <td>3.869372</td>\n",
              "    </tr>\n",
              "    <tr>\n",
              "      <th>2</th>\n",
              "      <td>3.417943</td>\n",
              "      <td>3.461920</td>\n",
              "      <td>3.482031</td>\n",
              "      <td>3.453965</td>\n",
              "      <td>3.417943</td>\n",
              "    </tr>\n",
              "    <tr>\n",
              "      <th>6</th>\n",
              "      <td>3.935026</td>\n",
              "      <td>3.937365</td>\n",
              "      <td>4.061274</td>\n",
              "      <td>3.977888</td>\n",
              "      <td>3.935026</td>\n",
              "    </tr>\n",
              "    <tr>\n",
              "      <th>10</th>\n",
              "      <td>3.472662</td>\n",
              "      <td>3.585496</td>\n",
              "      <td>3.530641</td>\n",
              "      <td>3.529600</td>\n",
              "      <td>3.472662</td>\n",
              "    </tr>\n",
              "    <tr>\n",
              "      <th>32</th>\n",
              "      <td>3.992793</td>\n",
              "      <td>3.966754</td>\n",
              "      <td>3.995862</td>\n",
              "      <td>3.985136</td>\n",
              "      <td>3.966754</td>\n",
              "    </tr>\n",
              "    <tr>\n",
              "      <th>...</th>\n",
              "      <td>...</td>\n",
              "      <td>...</td>\n",
              "      <td>...</td>\n",
              "      <td>...</td>\n",
              "      <td>...</td>\n",
              "    </tr>\n",
              "    <tr>\n",
              "      <th>48516</th>\n",
              "      <td>4.276681</td>\n",
              "      <td>4.322131</td>\n",
              "      <td>4.238543</td>\n",
              "      <td>4.279119</td>\n",
              "      <td>4.238543</td>\n",
              "    </tr>\n",
              "    <tr>\n",
              "      <th>58559</th>\n",
              "      <td>4.226314</td>\n",
              "      <td>4.320131</td>\n",
              "      <td>4.292878</td>\n",
              "      <td>4.279774</td>\n",
              "      <td>4.226314</td>\n",
              "    </tr>\n",
              "    <tr>\n",
              "      <th>60069</th>\n",
              "      <td>4.058605</td>\n",
              "      <td>4.099338</td>\n",
              "      <td>4.068206</td>\n",
              "      <td>4.075383</td>\n",
              "      <td>4.058605</td>\n",
              "    </tr>\n",
              "    <tr>\n",
              "      <th>68954</th>\n",
              "      <td>4.016408</td>\n",
              "      <td>4.002610</td>\n",
              "      <td>3.968902</td>\n",
              "      <td>3.995973</td>\n",
              "      <td>3.968902</td>\n",
              "    </tr>\n",
              "    <tr>\n",
              "      <th>79132</th>\n",
              "      <td>4.107504</td>\n",
              "      <td>4.039245</td>\n",
              "      <td>4.053531</td>\n",
              "      <td>4.066760</td>\n",
              "      <td>4.039245</td>\n",
              "    </tr>\n",
              "  </tbody>\n",
              "</table>\n",
              "<p>134 rows × 5 columns</p>\n",
              "</div>"
            ],
            "text/plain": [
              "         predict1  predict2  predict3   average  min_pred\n",
              "movieId                                                  \n",
              "1        3.898379  3.869372  3.914575  3.894109  3.869372\n",
              "2        3.417943  3.461920  3.482031  3.453965  3.417943\n",
              "6        3.935026  3.937365  4.061274  3.977888  3.935026\n",
              "10       3.472662  3.585496  3.530641  3.529600  3.472662\n",
              "32       3.992793  3.966754  3.995862  3.985136  3.966754\n",
              "...           ...       ...       ...       ...       ...\n",
              "48516    4.276681  4.322131  4.238543  4.279119  4.238543\n",
              "58559    4.226314  4.320131  4.292878  4.279774  4.226314\n",
              "60069    4.058605  4.099338  4.068206  4.075383  4.058605\n",
              "68954    4.016408  4.002610  3.968902  3.995973  3.968902\n",
              "79132    4.107504  4.039245  4.053531  4.066760  4.039245\n",
              "\n",
              "[134 rows x 5 columns]"
            ]
          },
          "metadata": {
            "tags": []
          },
          "execution_count": 17
        }
      ]
    },
    {
      "cell_type": "code",
      "metadata": {
        "id": "bxu5C8GhSNAA"
      },
      "source": [
        "# And finally the B part, which needs one more function using the same individual predictions.\n",
        "\n",
        "# Add the max values\n",
        "predicts['max_pred'] = predicts[['predict1', 'predict2', 'predict3']].max(axis=1)\n",
        "predicts['biggest_diff'] = predicts['max_pred'] - predicts['min_pred']"
      ],
      "execution_count": 18,
      "outputs": []
    },
    {
      "cell_type": "code",
      "metadata": {
        "id": "D-1NvHgCTQrP",
        "outputId": "456bedd1-ede6-4d36-fac1-b27c4d6d71c7",
        "colab": {
          "base_uri": "https://localhost:8080/"
        }
      },
      "source": [
        "predicts['biggest_diff'].max()"
      ],
      "execution_count": 19,
      "outputs": [
        {
          "output_type": "execute_result",
          "data": {
            "text/plain": [
              "0.3664043050278605"
            ]
          },
          "metadata": {
            "tags": []
          },
          "execution_count": 19
        }
      ]
    },
    {
      "cell_type": "code",
      "metadata": {
        "id": "8JezdowAURGA"
      },
      "source": [
        "a = 0.3"
      ],
      "execution_count": 20,
      "outputs": []
    },
    {
      "cell_type": "code",
      "metadata": {
        "id": "6pIB_zg2TeoY"
      },
      "source": [
        "predicts['predict_B'] = predicts['average'] - a * predicts['biggest_diff']"
      ],
      "execution_count": 21,
      "outputs": []
    },
    {
      "cell_type": "code",
      "metadata": {
        "id": "P1GolnUiUHBl",
        "outputId": "affee3dd-874e-4ffc-b0a8-51d8856ace11",
        "colab": {
          "base_uri": "https://localhost:8080/"
        }
      },
      "source": [
        "predicts['predict_B'].max()"
      ],
      "execution_count": 22,
      "outputs": [
        {
          "output_type": "execute_result",
          "data": {
            "text/plain": [
              "4.320774956759661"
            ]
          },
          "metadata": {
            "tags": []
          },
          "execution_count": 22
        }
      ]
    },
    {
      "cell_type": "code",
      "metadata": {
        "id": "ZT5SDxeTScD1",
        "outputId": "3496bb1d-4526-4fa4-a315-0d81d5049f7f",
        "colab": {
          "base_uri": "https://localhost:8080/",
          "height": 436
        }
      },
      "source": [
        "predicts"
      ],
      "execution_count": 23,
      "outputs": [
        {
          "output_type": "execute_result",
          "data": {
            "text/html": [
              "<div>\n",
              "<style scoped>\n",
              "    .dataframe tbody tr th:only-of-type {\n",
              "        vertical-align: middle;\n",
              "    }\n",
              "\n",
              "    .dataframe tbody tr th {\n",
              "        vertical-align: top;\n",
              "    }\n",
              "\n",
              "    .dataframe thead th {\n",
              "        text-align: right;\n",
              "    }\n",
              "</style>\n",
              "<table border=\"1\" class=\"dataframe\">\n",
              "  <thead>\n",
              "    <tr style=\"text-align: right;\">\n",
              "      <th></th>\n",
              "      <th>predict1</th>\n",
              "      <th>predict2</th>\n",
              "      <th>predict3</th>\n",
              "      <th>average</th>\n",
              "      <th>min_pred</th>\n",
              "      <th>max_pred</th>\n",
              "      <th>biggest_diff</th>\n",
              "      <th>predict_B</th>\n",
              "    </tr>\n",
              "    <tr>\n",
              "      <th>movieId</th>\n",
              "      <th></th>\n",
              "      <th></th>\n",
              "      <th></th>\n",
              "      <th></th>\n",
              "      <th></th>\n",
              "      <th></th>\n",
              "      <th></th>\n",
              "      <th></th>\n",
              "    </tr>\n",
              "  </thead>\n",
              "  <tbody>\n",
              "    <tr>\n",
              "      <th>1</th>\n",
              "      <td>3.898379</td>\n",
              "      <td>3.869372</td>\n",
              "      <td>3.914575</td>\n",
              "      <td>3.894109</td>\n",
              "      <td>3.869372</td>\n",
              "      <td>3.914575</td>\n",
              "      <td>0.045203</td>\n",
              "      <td>3.880548</td>\n",
              "    </tr>\n",
              "    <tr>\n",
              "      <th>2</th>\n",
              "      <td>3.417943</td>\n",
              "      <td>3.461920</td>\n",
              "      <td>3.482031</td>\n",
              "      <td>3.453965</td>\n",
              "      <td>3.417943</td>\n",
              "      <td>3.482031</td>\n",
              "      <td>0.064089</td>\n",
              "      <td>3.434738</td>\n",
              "    </tr>\n",
              "    <tr>\n",
              "      <th>6</th>\n",
              "      <td>3.935026</td>\n",
              "      <td>3.937365</td>\n",
              "      <td>4.061274</td>\n",
              "      <td>3.977888</td>\n",
              "      <td>3.935026</td>\n",
              "      <td>4.061274</td>\n",
              "      <td>0.126249</td>\n",
              "      <td>3.940014</td>\n",
              "    </tr>\n",
              "    <tr>\n",
              "      <th>10</th>\n",
              "      <td>3.472662</td>\n",
              "      <td>3.585496</td>\n",
              "      <td>3.530641</td>\n",
              "      <td>3.529600</td>\n",
              "      <td>3.472662</td>\n",
              "      <td>3.585496</td>\n",
              "      <td>0.112834</td>\n",
              "      <td>3.495750</td>\n",
              "    </tr>\n",
              "    <tr>\n",
              "      <th>32</th>\n",
              "      <td>3.992793</td>\n",
              "      <td>3.966754</td>\n",
              "      <td>3.995862</td>\n",
              "      <td>3.985136</td>\n",
              "      <td>3.966754</td>\n",
              "      <td>3.995862</td>\n",
              "      <td>0.029108</td>\n",
              "      <td>3.976404</td>\n",
              "    </tr>\n",
              "    <tr>\n",
              "      <th>...</th>\n",
              "      <td>...</td>\n",
              "      <td>...</td>\n",
              "      <td>...</td>\n",
              "      <td>...</td>\n",
              "      <td>...</td>\n",
              "      <td>...</td>\n",
              "      <td>...</td>\n",
              "      <td>...</td>\n",
              "    </tr>\n",
              "    <tr>\n",
              "      <th>48516</th>\n",
              "      <td>4.276681</td>\n",
              "      <td>4.322131</td>\n",
              "      <td>4.238543</td>\n",
              "      <td>4.279119</td>\n",
              "      <td>4.238543</td>\n",
              "      <td>4.322131</td>\n",
              "      <td>0.083588</td>\n",
              "      <td>4.254042</td>\n",
              "    </tr>\n",
              "    <tr>\n",
              "      <th>58559</th>\n",
              "      <td>4.226314</td>\n",
              "      <td>4.320131</td>\n",
              "      <td>4.292878</td>\n",
              "      <td>4.279774</td>\n",
              "      <td>4.226314</td>\n",
              "      <td>4.320131</td>\n",
              "      <td>0.093818</td>\n",
              "      <td>4.251629</td>\n",
              "    </tr>\n",
              "    <tr>\n",
              "      <th>60069</th>\n",
              "      <td>4.058605</td>\n",
              "      <td>4.099338</td>\n",
              "      <td>4.068206</td>\n",
              "      <td>4.075383</td>\n",
              "      <td>4.058605</td>\n",
              "      <td>4.099338</td>\n",
              "      <td>0.040733</td>\n",
              "      <td>4.063163</td>\n",
              "    </tr>\n",
              "    <tr>\n",
              "      <th>68954</th>\n",
              "      <td>4.016408</td>\n",
              "      <td>4.002610</td>\n",
              "      <td>3.968902</td>\n",
              "      <td>3.995973</td>\n",
              "      <td>3.968902</td>\n",
              "      <td>4.016408</td>\n",
              "      <td>0.047506</td>\n",
              "      <td>3.981721</td>\n",
              "    </tr>\n",
              "    <tr>\n",
              "      <th>79132</th>\n",
              "      <td>4.107504</td>\n",
              "      <td>4.039245</td>\n",
              "      <td>4.053531</td>\n",
              "      <td>4.066760</td>\n",
              "      <td>4.039245</td>\n",
              "      <td>4.107504</td>\n",
              "      <td>0.068258</td>\n",
              "      <td>4.046283</td>\n",
              "    </tr>\n",
              "  </tbody>\n",
              "</table>\n",
              "<p>134 rows × 8 columns</p>\n",
              "</div>"
            ],
            "text/plain": [
              "         predict1  predict2  predict3  ...  max_pred  biggest_diff  predict_B\n",
              "movieId                                ...                                   \n",
              "1        3.898379  3.869372  3.914575  ...  3.914575      0.045203   3.880548\n",
              "2        3.417943  3.461920  3.482031  ...  3.482031      0.064089   3.434738\n",
              "6        3.935026  3.937365  4.061274  ...  4.061274      0.126249   3.940014\n",
              "10       3.472662  3.585496  3.530641  ...  3.585496      0.112834   3.495750\n",
              "32       3.992793  3.966754  3.995862  ...  3.995862      0.029108   3.976404\n",
              "...           ...       ...       ...  ...       ...           ...        ...\n",
              "48516    4.276681  4.322131  4.238543  ...  4.322131      0.083588   4.254042\n",
              "58559    4.226314  4.320131  4.292878  ...  4.320131      0.093818   4.251629\n",
              "60069    4.058605  4.099338  4.068206  ...  4.099338      0.040733   4.063163\n",
              "68954    4.016408  4.002610  3.968902  ...  4.016408      0.047506   3.981721\n",
              "79132    4.107504  4.039245  4.053531  ...  4.107504      0.068258   4.046283\n",
              "\n",
              "[134 rows x 8 columns]"
            ]
          },
          "metadata": {
            "tags": []
          },
          "execution_count": 23
        }
      ]
    },
    {
      "cell_type": "code",
      "metadata": {
        "id": "Csai7FkvF205",
        "outputId": "e526f945-1a42-46dd-c4da-ba7cda5abd87",
        "colab": {
          "base_uri": "https://localhost:8080/"
        }
      },
      "source": [
        "print('The top 20 recommended movies for this group, using our method of the B part:')\n",
        "print()\n",
        "\n",
        "result_B = predicts.sort_values(by='predict_B', ascending=False)\n",
        "\n",
        "# Pretty printing \n",
        "for j in range(20):\n",
        "    print(result_B.iloc[j].name, end=' ')\n",
        "print()\n"
      ],
      "execution_count": 24,
      "outputs": [
        {
          "output_type": "stream",
          "text": [
            "The top 20 recommended movies for this group, using our method of the B part:\n",
            "\n",
            "858 48516 58559 1221 2959 1213 1198 2329 318 1196 260 1089 1208 2571 2028 1197 4973 7153 7361 50 \n"
          ],
          "name": "stdout"
        }
      ]
    },
    {
      "cell_type": "code",
      "metadata": {
        "id": "RYHZwkn6q-Wr"
      },
      "source": [
        ""
      ],
      "execution_count": 24,
      "outputs": []
    },
    {
      "cell_type": "markdown",
      "metadata": {
        "id": "Myg6RxG57BPB"
      },
      "source": [
        "# DUY'S \bVersion"
      ]
    },
    {
      "cell_type": "markdown",
      "metadata": {
        "id": "dJDFf7cIDodH"
      },
      "source": [
        "**Assignment 2: Group Recommendations Due: November 15, 2020**\n",
        "\n",
        "**A.**\n",
        "\n",
        "For producing group recommendation, we will use the user-based collaborative filtering approach as this implemented in Assignment 1. Specifically, for producing group recommendations, we will first compute the movies recommendations for each user in the group, and then we will aggregate\n",
        "the lists of the individual users, so as to produce a single list of movies for the group.\n",
        "\n",
        "You will implement two well established aggregation methods for producing the group recommendations.\n",
        "- The first aggregation approach is the average method. The main idea behind this approach is that all members are considered equals. So, the rating of an item for a group of users will be given be averaging the scores of an item across all group members. Score: 30%\n",
        "- The second aggregation method is the least misery method, where one member can act as a veto for the rest of the group. In this case, the rating of an item for a group of users is computed as the minimum score assigned to that item in all group members recommendations. Score: 30%\n",
        "\n",
        "Produce a group of 3 users, and for this group, show the top-20 recommendations, i.e., the 20 movies with the highest prediction scores that (i) the average method suggests, and (ii) the least misery method suggest. Use the MovieLens 100K rating dataset. Score: 10%"
      ]
    },
    {
      "cell_type": "markdown",
      "metadata": {
        "id": "yzG-UXKfDumG"
      },
      "source": [
        ""
      ]
    },
    {
      "cell_type": "code",
      "metadata": {
        "id": "gBOzjMe7AyUI",
        "outputId": "bc60680f-de12-4b0b-8797-59a3cc5ec16c",
        "colab": {
          "base_uri": "https://localhost:8080/",
          "height": 406
        }
      },
      "source": [
        "import numpy as np\n",
        "import pandas as pd\n",
        "\n",
        "#Load the data and some pre-processing step\n",
        "column_names = ['userId', 'movieId', 'rating', 'timestamp']\n",
        "df = pd.read_csv('https://raw.githubusercontent.com/duy7590/Group-Recommender-System/main/ratings.csv', sep=',', names=column_names)\n",
        "df = df[1:] #take the data less the header row\n",
        "df['movieId']=df['movieId'].astype(int) \n",
        "df['rating']=df['rating'].astype(float) \n",
        "df['userId']=df['userId'].astype(int) \n",
        "\n",
        "#Merge movie ID and title\n",
        "movie_titles = pd.read_csv(\"https://raw.githubusercontent.com/duy7590/Group-Recommender-System/main/movies.csv\")\n",
        "df = pd.merge(df,movie_titles,on='movieId')\n",
        "df.head(100)"
      ],
      "execution_count": 1,
      "outputs": [
        {
          "output_type": "execute_result",
          "data": {
            "text/html": [
              "<div>\n",
              "<style scoped>\n",
              "    .dataframe tbody tr th:only-of-type {\n",
              "        vertical-align: middle;\n",
              "    }\n",
              "\n",
              "    .dataframe tbody tr th {\n",
              "        vertical-align: top;\n",
              "    }\n",
              "\n",
              "    .dataframe thead th {\n",
              "        text-align: right;\n",
              "    }\n",
              "</style>\n",
              "<table border=\"1\" class=\"dataframe\">\n",
              "  <thead>\n",
              "    <tr style=\"text-align: right;\">\n",
              "      <th></th>\n",
              "      <th>userId</th>\n",
              "      <th>movieId</th>\n",
              "      <th>rating</th>\n",
              "      <th>timestamp</th>\n",
              "      <th>title</th>\n",
              "      <th>genres</th>\n",
              "    </tr>\n",
              "  </thead>\n",
              "  <tbody>\n",
              "    <tr>\n",
              "      <th>0</th>\n",
              "      <td>1</td>\n",
              "      <td>1</td>\n",
              "      <td>4.0</td>\n",
              "      <td>964982703</td>\n",
              "      <td>Toy Story (1995)</td>\n",
              "      <td>Adventure|Animation|Children|Comedy|Fantasy</td>\n",
              "    </tr>\n",
              "    <tr>\n",
              "      <th>1</th>\n",
              "      <td>5</td>\n",
              "      <td>1</td>\n",
              "      <td>4.0</td>\n",
              "      <td>847434962</td>\n",
              "      <td>Toy Story (1995)</td>\n",
              "      <td>Adventure|Animation|Children|Comedy|Fantasy</td>\n",
              "    </tr>\n",
              "    <tr>\n",
              "      <th>2</th>\n",
              "      <td>7</td>\n",
              "      <td>1</td>\n",
              "      <td>4.5</td>\n",
              "      <td>1106635946</td>\n",
              "      <td>Toy Story (1995)</td>\n",
              "      <td>Adventure|Animation|Children|Comedy|Fantasy</td>\n",
              "    </tr>\n",
              "    <tr>\n",
              "      <th>3</th>\n",
              "      <td>15</td>\n",
              "      <td>1</td>\n",
              "      <td>2.5</td>\n",
              "      <td>1510577970</td>\n",
              "      <td>Toy Story (1995)</td>\n",
              "      <td>Adventure|Animation|Children|Comedy|Fantasy</td>\n",
              "    </tr>\n",
              "    <tr>\n",
              "      <th>4</th>\n",
              "      <td>17</td>\n",
              "      <td>1</td>\n",
              "      <td>4.5</td>\n",
              "      <td>1305696483</td>\n",
              "      <td>Toy Story (1995)</td>\n",
              "      <td>Adventure|Animation|Children|Comedy|Fantasy</td>\n",
              "    </tr>\n",
              "    <tr>\n",
              "      <th>...</th>\n",
              "      <td>...</td>\n",
              "      <td>...</td>\n",
              "      <td>...</td>\n",
              "      <td>...</td>\n",
              "      <td>...</td>\n",
              "      <td>...</td>\n",
              "    </tr>\n",
              "    <tr>\n",
              "      <th>95</th>\n",
              "      <td>269</td>\n",
              "      <td>1</td>\n",
              "      <td>5.0</td>\n",
              "      <td>850865423</td>\n",
              "      <td>Toy Story (1995)</td>\n",
              "      <td>Adventure|Animation|Children|Comedy|Fantasy</td>\n",
              "    </tr>\n",
              "    <tr>\n",
              "      <th>96</th>\n",
              "      <td>270</td>\n",
              "      <td>1</td>\n",
              "      <td>5.0</td>\n",
              "      <td>853918728</td>\n",
              "      <td>Toy Story (1995)</td>\n",
              "      <td>Adventure|Animation|Children|Comedy|Fantasy</td>\n",
              "    </tr>\n",
              "    <tr>\n",
              "      <th>97</th>\n",
              "      <td>273</td>\n",
              "      <td>1</td>\n",
              "      <td>5.0</td>\n",
              "      <td>835861234</td>\n",
              "      <td>Toy Story (1995)</td>\n",
              "      <td>Adventure|Animation|Children|Comedy|Fantasy</td>\n",
              "    </tr>\n",
              "    <tr>\n",
              "      <th>98</th>\n",
              "      <td>274</td>\n",
              "      <td>1</td>\n",
              "      <td>4.0</td>\n",
              "      <td>1171410158</td>\n",
              "      <td>Toy Story (1995)</td>\n",
              "      <td>Adventure|Animation|Children|Comedy|Fantasy</td>\n",
              "    </tr>\n",
              "    <tr>\n",
              "      <th>99</th>\n",
              "      <td>275</td>\n",
              "      <td>1</td>\n",
              "      <td>5.0</td>\n",
              "      <td>1049076484</td>\n",
              "      <td>Toy Story (1995)</td>\n",
              "      <td>Adventure|Animation|Children|Comedy|Fantasy</td>\n",
              "    </tr>\n",
              "  </tbody>\n",
              "</table>\n",
              "<p>100 rows × 6 columns</p>\n",
              "</div>"
            ],
            "text/plain": [
              "    userId  ...                                       genres\n",
              "0        1  ...  Adventure|Animation|Children|Comedy|Fantasy\n",
              "1        5  ...  Adventure|Animation|Children|Comedy|Fantasy\n",
              "2        7  ...  Adventure|Animation|Children|Comedy|Fantasy\n",
              "3       15  ...  Adventure|Animation|Children|Comedy|Fantasy\n",
              "4       17  ...  Adventure|Animation|Children|Comedy|Fantasy\n",
              "..     ...  ...                                          ...\n",
              "95     269  ...  Adventure|Animation|Children|Comedy|Fantasy\n",
              "96     270  ...  Adventure|Animation|Children|Comedy|Fantasy\n",
              "97     273  ...  Adventure|Animation|Children|Comedy|Fantasy\n",
              "98     274  ...  Adventure|Animation|Children|Comedy|Fantasy\n",
              "99     275  ...  Adventure|Animation|Children|Comedy|Fantasy\n",
              "\n",
              "[100 rows x 6 columns]"
            ]
          },
          "metadata": {
            "tags": []
          },
          "execution_count": 1
        }
      ]
    },
    {
      "cell_type": "code",
      "metadata": {
        "id": "tU1ZN8HXC5pF",
        "outputId": "8bf8c48b-5c12-4434-9216-3acb6a07fec3",
        "colab": {
          "base_uri": "https://localhost:8080/",
          "height": 197
        }
      },
      "source": [
        "df[df['userId']==12].sort_values('rating',ascending=False).head()"
      ],
      "execution_count": 2,
      "outputs": [
        {
          "output_type": "execute_result",
          "data": {
            "text/html": [
              "<div>\n",
              "<style scoped>\n",
              "    .dataframe tbody tr th:only-of-type {\n",
              "        vertical-align: middle;\n",
              "    }\n",
              "\n",
              "    .dataframe tbody tr th {\n",
              "        vertical-align: top;\n",
              "    }\n",
              "\n",
              "    .dataframe thead th {\n",
              "        text-align: right;\n",
              "    }\n",
              "</style>\n",
              "<table border=\"1\" class=\"dataframe\">\n",
              "  <thead>\n",
              "    <tr style=\"text-align: right;\">\n",
              "      <th></th>\n",
              "      <th>userId</th>\n",
              "      <th>movieId</th>\n",
              "      <th>rating</th>\n",
              "      <th>timestamp</th>\n",
              "      <th>title</th>\n",
              "      <th>genres</th>\n",
              "    </tr>\n",
              "  </thead>\n",
              "  <tbody>\n",
              "    <tr>\n",
              "      <th>41245</th>\n",
              "      <td>12</td>\n",
              "      <td>6942</td>\n",
              "      <td>5.0</td>\n",
              "      <td>1247264138</td>\n",
              "      <td>Love Actually (2003)</td>\n",
              "      <td>Comedy|Drama|Romance</td>\n",
              "    </tr>\n",
              "    <tr>\n",
              "      <th>33503</th>\n",
              "      <td>12</td>\n",
              "      <td>838</td>\n",
              "      <td>5.0</td>\n",
              "      <td>1247264096</td>\n",
              "      <td>Emma (1996)</td>\n",
              "      <td>Comedy|Drama|Romance</td>\n",
              "    </tr>\n",
              "    <tr>\n",
              "      <th>44453</th>\n",
              "      <td>12</td>\n",
              "      <td>2581</td>\n",
              "      <td>5.0</td>\n",
              "      <td>1247263444</td>\n",
              "      <td>Never Been Kissed (1999)</td>\n",
              "      <td>Comedy|Romance</td>\n",
              "    </tr>\n",
              "    <tr>\n",
              "      <th>44399</th>\n",
              "      <td>12</td>\n",
              "      <td>2572</td>\n",
              "      <td>5.0</td>\n",
              "      <td>1247263689</td>\n",
              "      <td>10 Things I Hate About You (1999)</td>\n",
              "      <td>Comedy|Romance</td>\n",
              "    </tr>\n",
              "    <tr>\n",
              "      <th>44370</th>\n",
              "      <td>12</td>\n",
              "      <td>2485</td>\n",
              "      <td>5.0</td>\n",
              "      <td>1247264406</td>\n",
              "      <td>She's All That (1999)</td>\n",
              "      <td>Comedy|Romance</td>\n",
              "    </tr>\n",
              "  </tbody>\n",
              "</table>\n",
              "</div>"
            ],
            "text/plain": [
              "       userId  movieId  ...                              title                genres\n",
              "41245      12     6942  ...               Love Actually (2003)  Comedy|Drama|Romance\n",
              "33503      12      838  ...                        Emma (1996)  Comedy|Drama|Romance\n",
              "44453      12     2581  ...           Never Been Kissed (1999)        Comedy|Romance\n",
              "44399      12     2572  ...  10 Things I Hate About You (1999)        Comedy|Romance\n",
              "44370      12     2485  ...              She's All That (1999)        Comedy|Romance\n",
              "\n",
              "[5 rows x 6 columns]"
            ]
          },
          "metadata": {
            "tags": []
          },
          "execution_count": 2
        }
      ]
    },
    {
      "cell_type": "markdown",
      "metadata": {
        "id": "BOirtpwfDFm6"
      },
      "source": [
        "To compare the results between Item-based and user-based approach, I will take User id no.1 as the target to experiment. To compute similarity for User-based and item-based approach, we use different tools:\n",
        "\n",
        "- **Pearson Similarity**: I used pandas.DataFrame.corr() and pandas.DataFrame.corrwith() to compute the pearson correlation between rows or columns of one or two DataFrame objects\n",
        "- **Pearson Similarity**: I used pairwise_distances module in sklearn library"
      ]
    },
    {
      "cell_type": "markdown",
      "metadata": {
        "id": "b5QTmXQTDOQ_"
      },
      "source": [
        "## Implement the user-based collaborative filtering approach, using the Pearson correlation function\n",
        "\n",
        "Implement the user-based collaborative filtering approach, using the Pearson correlation function\n",
        "for computing similarities between users (Score: 20%), and the prediction function presented in\n",
        "class for predicting movies scores (Score: 20%).\n",
        "Select a user from the dataset, and for this user, show the 10 most similar users and the 20 most\n",
        "relevant movies that the recommender suggests. Score: 5%"
      ]
    },
    {
      "cell_type": "code",
      "metadata": {
        "id": "zogGllSNC59Q",
        "outputId": "a8e65196-895d-4b6a-ae51-ef956bb364e3",
        "colab": {
          "base_uri": "https://localhost:8080/"
        }
      },
      "source": [
        "#df = df.pivot_table(index='userId', columns='title', values='rating')\n",
        "df1 = df.pivot_table(index='title', columns='userId', values='rating')\n",
        "df1.head()\n",
        "\n",
        "matrix_corr_user = df1.corr(method='pearson').fillna(0) #User similarity matrix\n",
        "mean_user_rating = df1.mean(axis=1) #mean rating of each movies\n",
        "#You use np.newaxis so that mean_user_rating has same format as ratings\n",
        "ratings_diff = (df1 - mean_user_rating[:, np.newaxis]).fillna(0)\n",
        "#Prediction based on user-similarity and pearson correlation formula \n",
        "pred = mean_user_rating[:, np.newaxis] + (matrix_corr_user.dot(ratings_diff.T) / np.array([np.abs(matrix_corr_user).sum()]).T).T\n",
        "\n",
        "# Due to the reason that some companies only have several rating and it could make the prediction bias \n",
        "# so when make some recommendation, we only focus on those movies that have at least 100 ratings made \n",
        "# List of movies that has more than 100 rating counts  \n",
        "title_list = []\n",
        "for i in range(len(pred)):\n",
        "    if df1.iloc[i].count() > 100:\n",
        "        title_list.append(df1.iloc[i].name)\n",
        "    else:\n",
        "        pass\n",
        "print('Number of movies that has more than 100 rating counts: '+str(len(title_list)))\n",
        "  "
      ],
      "execution_count": 3,
      "outputs": [
        {
          "output_type": "stream",
          "text": [
            "/usr/local/lib/python3.6/dist-packages/ipykernel_launcher.py:8: FutureWarning: Support for multi-dimensional indexing (e.g. `obj[:, None]`) is deprecated and will be removed in a future version.  Convert to a numpy array before indexing instead.\n",
            "  \n",
            "/usr/local/lib/python3.6/dist-packages/ipykernel_launcher.py:10: FutureWarning: Support for multi-dimensional indexing (e.g. `obj[:, None]`) is deprecated and will be removed in a future version.  Convert to a numpy array before indexing instead.\n",
            "  # Remove the CWD from sys.path while we load stuff.\n"
          ],
          "name": "stderr"
        },
        {
          "output_type": "stream",
          "text": [
            "Number of movies that has more than 100 rating counts: 134\n"
          ],
          "name": "stdout"
        }
      ]
    },
    {
      "cell_type": "markdown",
      "metadata": {
        "id": "aLS-d7EuDd00"
      },
      "source": [
        "Check the top prediction could be recommended for user id 1: "
      ]
    },
    {
      "cell_type": "code",
      "metadata": {
        "id": "OlV1jNw9DiCx",
        "outputId": "7764e623-3ed4-4b7c-c3d0-b1bcaa821d12",
        "colab": {
          "base_uri": "https://localhost:8080/"
        }
      },
      "source": [
        "print('-----------------------')\n",
        "print('Top most relevant movies that the recommender suggests based on user similarity')\n",
        "print('-----------------------')\n",
        "\n",
        "#User id no.12 as target\n",
        "user_id = 1\n",
        "final_list = pred[user_id].sort_values(ascending=False)\n",
        "for i in range(len(final_list)): \n",
        "    if final_list.index[i] in title_list:\n",
        "        print(final_list.index[i],\"---------Predicted rate:\",final_list[i])\n",
        "    else:\n",
        "        pass \n",
        "\n",
        "        "
      ],
      "execution_count": 4,
      "outputs": [
        {
          "output_type": "stream",
          "text": [
            "-----------------------\n",
            "Top most relevant movies that the recommender suggests based on user similarity\n",
            "-----------------------\n",
            "Shawshank Redemption, The (1994) ---------Predicted rate: 4.490513373908258\n",
            "Star Wars: Episode IV - A New Hope (1977) ---------Predicted rate: 4.352317929655573\n",
            "Godfather, The (1972) ---------Predicted rate: 4.334089317133157\n",
            "Schindler's List (1993) ---------Predicted rate: 4.320860739252987\n",
            "Star Wars: Episode V - The Empire Strikes Back (1980) ---------Predicted rate: 4.305943897259695\n",
            "Fight Club (1999) ---------Predicted rate: 4.293044583601053\n",
            "Usual Suspects, The (1995) ---------Predicted rate: 4.292857973297115\n",
            "Departed, The (2006) ---------Predicted rate: 4.276681428637795\n",
            "Godfather: Part II, The (1974) ---------Predicted rate: 4.268328225136489\n",
            "Goodfellas (1990) ---------Predicted rate: 4.26195189676241\n",
            "Matrix, The (1999) ---------Predicted rate: 4.253508790334696\n",
            "Princess Bride, The (1987) ---------Predicted rate: 4.24536685717501\n",
            "Raiders of the Lost Ark (Indiana Jones and the Raiders of the Lost Ark) (1981) ---------Predicted rate: 4.244428272771009\n",
            "American History X (1998) ---------Predicted rate: 4.233348686007619\n",
            "Apocalypse Now (1979) ---------Predicted rate: 4.22976989490853\n",
            "Dark Knight, The (2008) ---------Predicted rate: 4.226313633555113\n",
            "Monty Python and the Holy Grail (1975) ---------Predicted rate: 4.225810437752246\n",
            "Reservoir Dogs (1992) ---------Predicted rate: 4.206786375523134\n",
            "One Flew Over the Cuckoo's Nest (1975) ---------Predicted rate: 4.198270968725026\n",
            "Amelie (Fabuleux destin d'Amélie Poulain, Le) (2001) ---------Predicted rate: 4.189796214898872\n",
            "Star Wars: Episode VI - Return of the Jedi (1983) ---------Predicted rate: 4.1871299976738205\n",
            "Eternal Sunshine of the Spotless Mind (2004) ---------Predicted rate: 4.1866983402449955\n",
            "Green Mile, The (1999) ---------Predicted rate: 4.1690231821911095\n",
            "Lord of the Rings: The Return of the King, The (2003) ---------Predicted rate: 4.164543183893892\n",
            "Fargo (1996) ---------Predicted rate: 4.157135129932604\n",
            "Forrest Gump (1994) ---------Predicted rate: 4.145133049402501\n",
            "Lord of the Rings: The Fellowship of the Ring, The (2001) ---------Predicted rate: 4.142522584277876\n",
            "Saving Private Ryan (1998) ---------Predicted rate: 4.133266631282032\n",
            "Memento (2000) ---------Predicted rate: 4.122399116093446\n",
            "American Beauty (1999) ---------Predicted rate: 4.117234009851445\n",
            "Pulp Fiction (1994) ---------Predicted rate: 4.113746299596733\n",
            "Full Metal Jacket (1987) ---------Predicted rate: 4.110298097300491\n",
            "Inception (2010) ---------Predicted rate: 4.1075036152545294\n",
            "Blade Runner (1982) ---------Predicted rate: 4.100336080722716\n",
            "Silence of the Lambs, The (1991) ---------Predicted rate: 4.093699209146839\n",
            "Taxi Driver (1976) ---------Predicted rate: 4.088566205488414\n",
            "Good Will Hunting (1997) ---------Predicted rate: 4.0789113683800196\n",
            "Back to the Future (1985) ---------Predicted rate: 4.068166061761526\n",
            "WALL·E (2008) ---------Predicted rate: 4.0586052741526695\n",
            "Indiana Jones and the Last Crusade (1989) ---------Predicted rate: 4.058415135758966\n",
            "Shining, The (1980) ---------Predicted rate: 4.049736102724287\n",
            "Trainspotting (1996) ---------Predicted rate: 4.0486868880630205\n",
            "Seven (a.k.a. Se7en) (1995) ---------Predicted rate: 4.045118679532945\n",
            "Lord of the Rings: The Two Towers, The (2002) ---------Predicted rate: 4.037629596315814\n",
            "Clockwork Orange, A (1971) ---------Predicted rate: 4.032356208377021\n",
            "Léon: The Professional (a.k.a. The Professional) (Léon) (1994) ---------Predicted rate: 4.023960156203044\n",
            "Braveheart (1995) ---------Predicted rate: 4.017829087185843\n",
            "Fugitive, The (1993) ---------Predicted rate: 4.0175537944571875\n",
            "Up (2009) ---------Predicted rate: 4.01640810866048\n",
            "Beautiful Mind, A (2001) ---------Predicted rate: 4.0087032027001\n",
            "Twelve Monkeys (a.k.a. 12 Monkeys) (1995) ---------Predicted rate: 3.992792539887165\n",
            "Donnie Darko (2001) ---------Predicted rate: 3.981265756866856\n",
            "Terminator 2: Judgment Day (1991) ---------Predicted rate: 3.9810773565628508\n",
            "Big Lebowski, The (1998) ---------Predicted rate: 3.9719314009713322\n",
            "Gladiator (2000) ---------Predicted rate: 3.9699185334700364\n",
            "Kill Bill: Vol. 1 (2003) ---------Predicted rate: 3.9645240465479987\n",
            "Finding Nemo (2003) ---------Predicted rate: 3.947383146879417\n",
            "Aliens (1986) ---------Predicted rate: 3.947081584294467\n",
            "Lion King, The (1994) ---------Predicted rate: 3.9457083261634174\n",
            "Alien (1979) ---------Predicted rate: 3.9405317721786464\n",
            "Groundhog Day (1993) ---------Predicted rate: 3.9367044262521347\n",
            "Heat (1995) ---------Predicted rate: 3.9350256062244497\n",
            "Catch Me If You Can (2002) ---------Predicted rate: 3.925641993338037\n",
            "Terminator, The (1984) ---------Predicted rate: 3.9136022886706066\n",
            "Willy Wonka & the Chocolate Factory (1971) ---------Predicted rate: 3.908959556253776\n",
            "Sixth Sense, The (1999) ---------Predicted rate: 3.9040878920396387\n",
            "Toy Story (1995) ---------Predicted rate: 3.8983790069424664\n",
            "2001: A Space Odyssey (1968) ---------Predicted rate: 3.8979297266367543\n",
            "Kill Bill: Vol. 2 (2004) ---------Predicted rate: 3.8850036360286184\n",
            "Monsters, Inc. (2001) ---------Predicted rate: 3.880313930428478\n",
            "Batman Begins (2005) ---------Predicted rate: 3.8615998049125433\n",
            "Shrek (2001) ---------Predicted rate: 3.8465487901360698\n",
            "Die Hard (1988) ---------Predicted rate: 3.8460738953907527\n",
            "Crouching Tiger, Hidden Dragon (Wo hu cang long) (2000) ---------Predicted rate: 3.835593181325045\n",
            "Apollo 13 (1995) ---------Predicted rate: 3.832990818669633\n",
            "Incredibles, The (2004) ---------Predicted rate: 3.831575735343783\n",
            "Ocean's Eleven (2001) ---------Predicted rate: 3.827605369178693\n",
            "Ferris Bueller's Day Off (1986) ---------Predicted rate: 3.824906083836216\n",
            "Dances with Wolves (1990) ---------Predicted rate: 3.8155847698321543\n",
            "Clerks (1994) ---------Predicted rate: 3.8153761854744217\n",
            "Truman Show, The (1998) ---------Predicted rate: 3.8151098080313894\n",
            "E.T. the Extra-Terrestrial (1982) ---------Predicted rate: 3.800452581291463\n",
            "Bourne Identity, The (2002) ---------Predicted rate: 3.7979504075091954\n",
            "Ghostbusters (a.k.a. Ghost Busters) (1984) ---------Predicted rate: 3.7966126084184664\n",
            "Aladdin (1992) ---------Predicted rate: 3.796120050659221\n",
            "Pirates of the Caribbean: The Curse of the Black Pearl (2003) ---------Predicted rate: 3.7770507596504177\n",
            "Breakfast Club, The (1985) ---------Predicted rate: 3.765017448725149\n",
            "Beauty and the Beast (1991) ---------Predicted rate: 3.7594190516480537\n",
            "Fifth Element, The (1997) ---------Predicted rate: 3.7498706680165754\n",
            "Harry Potter and the Sorcerer's Stone (a.k.a. Harry Potter and the Philosopher's Stone) (2001) ---------Predicted rate: 3.748440718355435\n",
            "Jurassic Park (1993) ---------Predicted rate: 3.729648158381868\n",
            "X-Men (2000) ---------Predicted rate: 3.7024182332698836\n",
            "There's Something About Mary (1998) ---------Predicted rate: 3.6820345053761447\n",
            "Babe (1995) ---------Predicted rate: 3.6491979587595225\n",
            "Indiana Jones and the Temple of Doom (1984) ---------Predicted rate: 3.6453404887522227\n",
            "Minority Report (2002) ---------Predicted rate: 3.6326581891336684\n",
            "Rock, The (1996) ---------Predicted rate: 3.6119483951578064\n",
            "Harry Potter and the Chamber of Secrets (2002) ---------Predicted rate: 3.601431934368135\n",
            "Crimson Tide (1995) ---------Predicted rate: 3.6002548129369862\n",
            "Clear and Present Danger (1994) ---------Predicted rate: 3.593452161733215\n",
            "Spider-Man (2002) ---------Predicted rate: 3.552546702559827\n",
            "Four Weddings and a Funeral (1994) ---------Predicted rate: 3.525483265717329\n",
            "Firm, The (1993) ---------Predicted rate: 3.517953965655669\n",
            "Die Hard: With a Vengeance (1995) ---------Predicted rate: 3.5101095706024776\n",
            "True Lies (1994) ---------Predicted rate: 3.5073436279096932\n",
            "Pretty Woman (1990) ---------Predicted rate: 3.476104280072977\n",
            "GoldenEye (1995) ---------Predicted rate: 3.4726621845564543\n",
            "Speed (1994) ---------Predicted rate: 3.461306090809672\n",
            "Sleepless in Seattle (1993) ---------Predicted rate: 3.456980672788847\n",
            "Mission: Impossible (1996) ---------Predicted rate: 3.4546083586577985\n",
            "Batman (1989) ---------Predicted rate: 3.4482832849341802\n",
            "Interview with the Vampire: The Vampire Chronicles (1994) ---------Predicted rate: 3.446903636131538\n",
            "Men in Black (a.k.a. MIB) (1997) ---------Predicted rate: 3.4332117172382697\n",
            "Jumanji (1995) ---------Predicted rate: 3.417942636956195\n",
            "Ghost (1990) ---------Predicted rate: 3.414476667267096\n",
            "Titanic (1997) ---------Predicted rate: 3.4040901539511785\n",
            "Outbreak (1995) ---------Predicted rate: 3.403555619791615\n",
            "American Pie (1999) ---------Predicted rate: 3.374521884093607\n",
            "Star Trek: Generations (1994) ---------Predicted rate: 3.370974607979061\n",
            "Mrs. Doubtfire (1993) ---------Predicted rate: 3.3260988618709284\n",
            "Independence Day (a.k.a. ID4) (1996) ---------Predicted rate: 3.3147939387271763\n",
            "Stargate (1994) ---------Predicted rate: 3.3032690872126795\n",
            "Clueless (1995) ---------Predicted rate: 3.2784188250370945\n",
            "Austin Powers: The Spy Who Shagged Me (1999) ---------Predicted rate: 3.226093918688695\n",
            "Twister (1996) ---------Predicted rate: 3.1970379402306826\n",
            "Mask, The (1994) ---------Predicted rate: 3.1580907682479973\n",
            "Star Wars: Episode I - The Phantom Menace (1999) ---------Predicted rate: 3.120042568984696\n",
            "Dumb & Dumber (Dumb and Dumber) (1994) ---------Predicted rate: 3.116191233120623\n",
            "Ace Ventura: Pet Detective (1994) ---------Predicted rate: 3.0186473297964143\n",
            "Home Alone (1990) ---------Predicted rate: 2.9910726338018674\n",
            "Cliffhanger (1993) ---------Predicted rate: 2.9884400369860162\n",
            "Net, The (1995) ---------Predicted rate: 2.9802081097187525\n",
            "Waterworld (1995) ---------Predicted rate: 2.8895045763377976\n",
            "Batman Forever (1995) ---------Predicted rate: 2.8807975757004876\n"
          ],
          "name": "stdout"
        }
      ]
    },
    {
      "cell_type": "code",
      "metadata": {
        "id": "_egSenqLDjWK"
      },
      "source": [
        ""
      ],
      "execution_count": 4,
      "outputs": []
    },
    {
      "cell_type": "code",
      "metadata": {
        "id": "A2q8njtWFZxa"
      },
      "source": [
        ""
      ],
      "execution_count": 4,
      "outputs": []
    },
    {
      "cell_type": "markdown",
      "metadata": {
        "id": "4BS_M-89FvaT"
      },
      "source": [
        "# ANNA Version"
      ]
    },
    {
      "cell_type": "code",
      "metadata": {
        "id": "dvqr-DhgFyfj"
      },
      "source": [
        "import pandas as pd\n",
        "import numpy as np"
      ],
      "execution_count": 25,
      "outputs": []
    },
    {
      "cell_type": "code",
      "metadata": {
        "id": "ygzeSeM7FZ1a",
        "outputId": "c443facd-89ce-4a5a-e0a5-4447a445decc",
        "colab": {
          "base_uri": "https://localhost:8080/"
        }
      },
      "source": [
        "# Data reading in Anna's style\n",
        "path = 'https://raw.githubusercontent.com/duy7590/Group-Recommender-System/main/ratings.csv'\n",
        "data = pd.read_csv(path)\n",
        "data = data.drop(labels=['timestamp'], axis=1)\n",
        "\n",
        "# Shortening the data, will fasten the computing in developing phase\n",
        "data = data[0:10000] \n",
        "#data = data[0:5000]  # Tämä ottaa tietoja 32 käyttäjältä\n",
        "\n",
        "print('View to the data')\n",
        "print()\n",
        "print(data[0:6])"
      ],
      "execution_count": 26,
      "outputs": [
        {
          "output_type": "stream",
          "text": [
            "View to the data\n",
            "\n",
            "   userId  movieId  rating\n",
            "0       1        1     4.0\n",
            "1       1        3     4.0\n",
            "2       1        6     4.0\n",
            "3       1       47     5.0\n",
            "4       1       50     5.0\n",
            "5       1       70     3.0\n"
          ],
          "name": "stdout"
        }
      ]
    },
    {
      "cell_type": "code",
      "metadata": {
        "id": "wt33RwnIF26C"
      },
      "source": [
        "def compute_uratmeans(data): # Collection of mean ratings of all users \n",
        "    \n",
        "    users = data['userId'].unique()\n",
        "    uratmeans = {}\n",
        "    \n",
        "    for user in users:\n",
        "        all_data_curr_user = data.loc[data['userId']==user]\n",
        "        curr_mean = all_data_curr_user['rating'].mean()\n",
        "        # Add the result to a dictionary\n",
        "        if user in uratmeans:\n",
        "            print(\"Error. The user is already in the dict.\")\n",
        "        else:\n",
        "            uratmeans[user] = curr_mean\n",
        "            \n",
        "    return uratmeans"
      ],
      "execution_count": 27,
      "outputs": []
    },
    {
      "cell_type": "code",
      "metadata": {
        "id": "JQDIGgOdMP1J"
      },
      "source": [
        "# Dictionary of the mean ratings of all users\n",
        "uratmeans = compute_uratmeans(data)"
      ],
      "execution_count": 28,
      "outputs": []
    },
    {
      "cell_type": "code",
      "metadata": {
        "id": "uAn2sKOCwJEs"
      },
      "source": [
        "# Now I need the similarities and and predictions for each test user.\n",
        "# They are computed using the same ideas as in the first part of the first assignment."
      ],
      "execution_count": 29,
      "outputs": []
    },
    {
      "cell_type": "code",
      "metadata": {
        "id": "Htew2VLD0ETG"
      },
      "source": [
        "def compute_pearson_sims(data, user_a, uratmeans): \n",
        "    # This function computes all similarities between user_a ant the others.\n",
        "    # Similarity of user_a with oneself is included in the result.\n",
        "    \n",
        "    # The group of unique users\n",
        "    users = data['userId'].unique()\n",
        "    sims = {}  # In this dictionary, users as keys and similarities as values\n",
        "    r_a_mean = uratmeans[user_a]\n",
        "    \n",
        "    # I would like to change this for loop into something else, but it seems\n",
        "    # to not take so much computing time on my own computer.\n",
        "    for user_b in users:\n",
        "        #print('user_b ' + str(user_b), end= ' ')\n",
        "        data_a = data.loc[data['userId']==user_a]\n",
        "        data_b = data.loc[data['userId']==user_b]\n",
        "            \n",
        "        # Intersection of movies, that both a and b have rated\n",
        "        common_items = data_a.loc[data_a['movieId'].isin(data_b['movieId'])].copy()\n",
        "        common_items = common_items.set_index('movieId')\n",
        "        # There may be no common items. That is handled later.\n",
        "        \n",
        "        # Adding empty columns for storaging the similarity sum aux terms\n",
        "        # Terms to be storaged here refer to the sum tems of the formula\n",
        "        common_items['num_term'] = None\n",
        "        common_items['den_term_a'] = None\n",
        "        common_items['den_term_b'] = None\n",
        "        common_items = common_items.drop(labels=['userId', 'rating'], axis=1)\n",
        "        \n",
        "        # Iterate over all common items to get gather needed ratings\n",
        "        # Tässä siis käyttäjät a ja b ovat kiinnitettyjä\n",
        "        r_b_mean = uratmeans[user_b]\n",
        "        \n",
        "        numerator = 0.0\n",
        "        denominator_a = 0.0 \n",
        "        denominator_b = 0.0\n",
        "        \n",
        "        # Aux functions to apply for computing the sum terms of the sim formula\n",
        "        def pear_sim_num_term_func(unit_row):\n",
        "            #print(testi)\n",
        "            movie=unit_row.name\n",
        "            rap = data_a.loc[data_a['movieId']==movie]['rating'].values[0]\n",
        "            rbp = data_b.loc[data_b['movieId']==movie]['rating'].values[0]\n",
        "            num_term = np.round((rap - r_a_mean)*(rbp - r_b_mean), decimals = 5)\n",
        "            return num_term\n",
        "        def pear_sim_den_term_a_func(unit_row):\n",
        "            movie=unit_row.name\n",
        "            rap = data_a.loc[data_a['movieId']==movie]['rating'].values[0]\n",
        "            rbp = data_b.loc[data_b['movieId']==movie]['rating'].values[0] \n",
        "            den_term_a = np.round((rap - r_a_mean)**2, decimals = 5)\n",
        "            return den_term_a    \n",
        "        def pear_sim_den_term_b_func(unit_row):\n",
        "            movie=unit_row.name\n",
        "            rap = data_a.loc[data_a['movieId']==movie]['rating'].values[0]\n",
        "            rbp = data_b.loc[data_b['movieId']==movie]['rating'].values[0]\n",
        "            den_term_b = np.round((rbp - r_b_mean)**2, decimals = 5)\n",
        "            return den_term_b\n",
        "        \n",
        "        # Computing and storaging the sum terms\n",
        "        if len(common_items) > 0:\n",
        "            common_items.loc[:,'num_term'] = common_items.apply(\n",
        "                    pear_sim_num_term_func, axis=1)\n",
        "            common_items.loc[:,'den_term_b'] = common_items.apply(\n",
        "                    pear_sim_den_term_b_func, axis=1)\n",
        "            common_items.loc[:,'den_term_a'] = common_items.apply(\n",
        "                    pear_sim_den_term_a_func, axis=1)\n",
        "            \n",
        "            # Computing the factors of the sim formula\n",
        "            numerator = common_items.sum()['num_term']\n",
        "            denominator_a = np.sqrt(common_items.sum()['den_term_a'])\n",
        "            denominator_b = np.sqrt(common_items.sum()['den_term_b'])\n",
        "        \n",
        "        pearson_similarity = 0.0\n",
        "        try:  # My try did not solve the zero division. Had to add this if.\n",
        "            if abs(denominator_a * denominator_b) > 0.00000001:\n",
        "                pearson_similarity = numerator/(denominator_a * denominator_b)\n",
        "                pearson_similarity = np.round(pearson_similarity, decimals = 3)\n",
        "        except ZeroDivisionError:\n",
        "            print('Somebody made a zero division.')\n",
        "        except e:\n",
        "            print(e)\n",
        "        \n",
        "        sims[user_b] = pearson_similarity\n",
        "    \n",
        "    return sims"
      ],
      "execution_count": 30,
      "outputs": []
    },
    {
      "cell_type": "code",
      "metadata": {
        "id": "1OXN4eXdw7HP",
        "outputId": "33f7812e-6040-464b-d422-c57d8ee14b15",
        "colab": {
          "base_uri": "https://localhost:8080/"
        }
      },
      "source": [
        "# Similarities for 3 test users\n",
        "print('Computing similarities for user 1.')\n",
        "similarities1 = compute_pearson_sims(data, user1, uratmeans)\n",
        "print('Similarities 1 computed.')\n",
        "print('Computing similarities for user 2.')\n",
        "similarities2 = compute_pearson_sims(data, user2, uratmeans)\n",
        "print('Similarities 2 computed.')\n",
        "print('Computing similarities for user 3.')\n",
        "similarities3 = compute_pearson_sims(data, user3, uratmeans)\n",
        "print('Similarities 3 computed.')"
      ],
      "execution_count": 31,
      "outputs": [
        {
          "output_type": "stream",
          "text": [
            "Computing similarities for user 1.\n",
            "Similarities 1 computed.\n",
            "Computing similarities for user 2.\n",
            "Similarities 2 computed.\n",
            "Computing similarities for user 3.\n",
            "Similarities 3 computed.\n"
          ],
          "name": "stdout"
        }
      ]
    },
    {
      "cell_type": "code",
      "metadata": {
        "id": "Eu7qg5K70bEY",
        "outputId": "bf837e44-e339-480d-ab63-e8e19f19af19",
        "colab": {
          "base_uri": "https://localhost:8080/"
        }
      },
      "source": [
        "# See what kind of similarities I got for the user 1. similarities1 is a dictionary\n",
        "# including the similarity with the user herself.\n",
        "for i in similarities1.keys():\n",
        "  print(similarities1[i], end=' ')"
      ],
      "execution_count": 32,
      "outputs": [
        {
          "output_type": "stream",
          "text": [
            "1.0 0.999 0.011 0.21 0.195 -0.302 -0.047 0.427 0.355 -0.151 -0.45 1.0 0.948 0.225 0.312 0.05 0.198 0.231 0.226 0.526 0.086 -0.13 -0.261 0.052 0.018 -0.148 0.181 0.009 -0.063 0.052 0.052 0.27 0.105 0.1 0.313 0.442 -0.419 0.058 -0.225 -0.355 -0.143 0.145 0.151 0.609 0.239 -0.017 0.519 -0.155 0.753 0.004 0.068 -0.359 0.0 -0.189 0.37 0.128 0.353 0.256 0.057 0.36 0.188 0.509 0.31 0.199 0.824 -0.014 "
          ],
          "name": "stdout"
        }
      ]
    },
    {
      "cell_type": "code",
      "metadata": {
        "id": "tgGfTLGQ05ZQ",
        "outputId": "bab048a3-0f7f-479f-f177-255c01b273fe",
        "colab": {
          "base_uri": "https://localhost:8080/"
        }
      },
      "source": [
        "# And for user 2\n",
        "for i in similarities2.keys():\n",
        "  print(similarities2[i], end=' ')"
      ],
      "execution_count": 33,
      "outputs": [
        {
          "output_type": "stream",
          "text": [
            "0.999 1.0 0.0 -1.0 1.0 -0.668 -0.551 -1.0 0.0 0.027 -0.256 0.0 0.999 1.0 -0.215 -0.192 -0.015 -0.306 -0.21 0.999 -0.039 -0.359 -0.999 -0.477 0.272 0.0 0.0 -0.154 -0.406 -0.513 0.0 -1.0 0.347 -0.293 0.0 -0.705 1.0 -1.0 0.0 -1.0 0.011 0.18 1.0 0.0 0.772 0.0 0.103 0.0 0.061 -0.077 0.032 0.259 0.0 -1.0 0.999 -0.289 -0.463 -0.668 0.0 0.311 -1.0 -0.159 -0.474 -0.42 0.048 0.0 "
          ],
          "name": "stdout"
        }
      ]
    },
    {
      "cell_type": "code",
      "metadata": {
        "id": "VLEY5Ubc07-g",
        "outputId": "1436c911-a6b9-4c80-dbbb-2e0a634bc4ba",
        "colab": {
          "base_uri": "https://localhost:8080/"
        }
      },
      "source": [
        "# And user 3\n",
        "for i in similarities3.keys():\n",
        "  print(similarities3[i], end=' ')"
      ],
      "execution_count": 34,
      "outputs": [
        {
          "output_type": "stream",
          "text": [
            "0.011 0.0 1.0 -1.0 -1.0 0.322 0.0 -1.0 0.0 0.0 0.0 0.0 0.0 1.0 -0.946 -0.201 -0.16 -0.372 -0.459 -0.609 -0.687 0.356 -1.0 -1.0 -1.0 0.0 -1.0 0.33 -0.582 0.0 -1.0 -0.874 -0.881 1.0 0.0 0.0 0.0 -1.0 1.0 -1.0 -1.0 -0.324 0.0 -1.0 -0.661 0.0 0.725 0.0 -1.0 0.206 -0.367 0.0 0.0 0.0 1.0 0.0 -0.656 -0.767 -0.551 -1.0 -1.0 -1.0 -0.867 -0.535 0.997 0.0 "
          ],
          "name": "stdout"
        }
      ]
    },
    {
      "cell_type": "code",
      "metadata": {
        "id": "hy4txkqk293T"
      },
      "source": [
        "def compute_pear_prediction(unit_row, user_a, pearson_sims, data, uratmeans):\n",
        "    # This function computes the prediction for a known pair of\n",
        "    # user_a and movie_p, finding the movie information from unit_row of a df\n",
        "    if unit_row is None:\n",
        "        return 0.0\n",
        "    r_a_mean = uratmeans[user_a]\n",
        "    item_p = unit_row.name\n",
        "    data_p = data.loc[data['movieId']==item_p] # Data, where item_p has ratings\n",
        "    users_p = data_p['userId'] # The users, who have rated item_p\n",
        "    \n",
        "    # Place to storage the sum terms of the prediction formula\n",
        "    users_p = pd.DataFrame(index=data_p['userId'].unique()) # Drop duplicates\n",
        "    users_p.index.name = 'userId'\n",
        "    users_p.loc[:, 'num'] = 0.0\n",
        "    users_p.loc[:, 'den'] = 0.0\n",
        "    \n",
        "    # Aux function to compute the numerator terms\n",
        "    def num_term_func(unit_row):\n",
        "        user_b = unit_row.name\n",
        "        sim_ab = pearson_sims[user_b]\n",
        "        row_bp = None\n",
        "        try:\n",
        "            row_bp = data_p.loc[data_p['userId']==user_b]\n",
        "        except:\n",
        "            return 0.0\n",
        "        if len(row_bp) < 1:\n",
        "            return 0.0\n",
        "        if len(row_bp) > 1:  # If there are 2 ratings from same user\n",
        "            row_bp = row_bp.iloc[0]\n",
        "        rbp = row_bp['rating'].values[0]\n",
        "        r_b_mean = uratmeans[user_b]\n",
        "        try:\n",
        "            if sim_ab * (rbp - r_b_mean) is not None:\n",
        "                return np.round(sim_ab * (rbp - r_b_mean), decimals=4)\n",
        "        except:\n",
        "            return 0.0\n",
        "    \n",
        "    def den_term_func(unit_row):\n",
        "        user_b = unit_row.name\n",
        "        sim_ab = pearson_sims[user_b]\n",
        "        return sim_ab\n",
        "    \n",
        "    users_p.loc[:, 'num'] = users_p.apply(num_term_func, axis=1)\n",
        "    users_p.loc[:, 'den'] = users_p.apply(den_term_func, axis=1)\n",
        "    \n",
        "    # Next the sum parts of the prediction formula\n",
        "    numerator = 0.0\n",
        "    if users_p.sum()['num'] is not None:\n",
        "        numerator = users_p.sum()['num']\n",
        "    denominator = 0.0\n",
        "    if users_p.sum()['den'] is not None:\n",
        "        denominator = users_p.sum()['den']\n",
        "    \n",
        "    # Complete the computation of the formula. \n",
        "    pear_pred = r_a_mean\n",
        "    try:\n",
        "        if abs(denominator) > 0.00000001:\n",
        "            pear_pred = np.round(r_a_mean + numerator/denominator, decimals=2)\n",
        "            return pear_pred\n",
        "    except ZeroDivisionError:\n",
        "        print('Zero division, caught by try-except -scope.')\n",
        "    \n",
        "    return np.round(pear_pred, decimals=2)    "
      ],
      "execution_count": 35,
      "outputs": []
    },
    {
      "cell_type": "code",
      "metadata": {
        "id": "OB799LcXxNHo"
      },
      "source": [
        "predicts.loc[:, 'predict1'] = predicts.apply(compute_pear_prediction, axis=1, args=(user1, similarities1, data, uratmeans))\n",
        "\n",
        "predicts.loc[:, 'predict2'] = predicts.apply(\n",
        "    compute_pear_prediction, axis=1, args=(\n",
        "    user2, similarities2, data, uratmeans))\n",
        "\n",
        "predicts.loc[:, 'predict3'] = predicts.apply(\n",
        "    compute_pear_prediction, axis=1, args=(\n",
        "    user3, similarities3, data, uratmeans))"
      ],
      "execution_count": 36,
      "outputs": []
    },
    {
      "cell_type": "code",
      "metadata": {
        "id": "c7iotq7eF2wa",
        "outputId": "a06e8981-1899-4d74-b547-fc51ee1a7696",
        "colab": {
          "base_uri": "https://localhost:8080/",
          "height": 436
        }
      },
      "source": [
        "#Test 1 with Borda approach\n",
        "predicts_test1=predicts.drop(['average','min_pred'],axis=1)\n",
        "predicts_test1['rank_1']= predicts_test1[\"predict1\"].rank(method ='average') \n",
        "predicts_test1['rank_2']= predicts_test1[\"predict2\"].rank(method ='average') \n",
        "predicts_test1['rank_3']= predicts_test1[\"predict3\"].rank(method ='average') \n",
        "predicts_test1['Borda_SumOfRank'] = predicts_test1['rank_1']+predicts_test1['rank_2']+predicts_test1['rank_3']\n",
        "predicts_test1"
      ],
      "execution_count": 38,
      "outputs": [
        {
          "output_type": "execute_result",
          "data": {
            "text/html": [
              "<div>\n",
              "<style scoped>\n",
              "    .dataframe tbody tr th:only-of-type {\n",
              "        vertical-align: middle;\n",
              "    }\n",
              "\n",
              "    .dataframe tbody tr th {\n",
              "        vertical-align: top;\n",
              "    }\n",
              "\n",
              "    .dataframe thead th {\n",
              "        text-align: right;\n",
              "    }\n",
              "</style>\n",
              "<table border=\"1\" class=\"dataframe\">\n",
              "  <thead>\n",
              "    <tr style=\"text-align: right;\">\n",
              "      <th></th>\n",
              "      <th>predict1</th>\n",
              "      <th>predict2</th>\n",
              "      <th>predict3</th>\n",
              "      <th>max_pred</th>\n",
              "      <th>biggest_diff</th>\n",
              "      <th>predict_B</th>\n",
              "      <th>rank_1</th>\n",
              "      <th>rank_2</th>\n",
              "      <th>rank_3</th>\n",
              "      <th>Borda_SumOfRank</th>\n",
              "    </tr>\n",
              "    <tr>\n",
              "      <th>movieId</th>\n",
              "      <th></th>\n",
              "      <th></th>\n",
              "      <th></th>\n",
              "      <th></th>\n",
              "      <th></th>\n",
              "      <th></th>\n",
              "      <th></th>\n",
              "      <th></th>\n",
              "      <th></th>\n",
              "      <th></th>\n",
              "    </tr>\n",
              "  </thead>\n",
              "  <tbody>\n",
              "    <tr>\n",
              "      <th>1</th>\n",
              "      <td>4.32</td>\n",
              "      <td>5.41</td>\n",
              "      <td>2.66</td>\n",
              "      <td>3.914575</td>\n",
              "      <td>0.045203</td>\n",
              "      <td>3.880548</td>\n",
              "      <td>41.0</td>\n",
              "      <td>118.0</td>\n",
              "      <td>69.0</td>\n",
              "      <td>228.0</td>\n",
              "    </tr>\n",
              "    <tr>\n",
              "      <th>2</th>\n",
              "      <td>4.24</td>\n",
              "      <td>4.83</td>\n",
              "      <td>2.55</td>\n",
              "      <td>3.482031</td>\n",
              "      <td>0.064089</td>\n",
              "      <td>3.434738</td>\n",
              "      <td>38.5</td>\n",
              "      <td>107.0</td>\n",
              "      <td>56.0</td>\n",
              "      <td>201.5</td>\n",
              "    </tr>\n",
              "    <tr>\n",
              "      <th>6</th>\n",
              "      <td>3.87</td>\n",
              "      <td>4.35</td>\n",
              "      <td>2.53</td>\n",
              "      <td>4.061274</td>\n",
              "      <td>0.126249</td>\n",
              "      <td>3.940014</td>\n",
              "      <td>14.5</td>\n",
              "      <td>80.0</td>\n",
              "      <td>52.0</td>\n",
              "      <td>146.5</td>\n",
              "    </tr>\n",
              "    <tr>\n",
              "      <th>10</th>\n",
              "      <td>4.18</td>\n",
              "      <td>3.22</td>\n",
              "      <td>1.70</td>\n",
              "      <td>3.585496</td>\n",
              "      <td>0.112834</td>\n",
              "      <td>3.495750</td>\n",
              "      <td>32.0</td>\n",
              "      <td>22.0</td>\n",
              "      <td>9.0</td>\n",
              "      <td>63.0</td>\n",
              "    </tr>\n",
              "    <tr>\n",
              "      <th>32</th>\n",
              "      <td>4.63</td>\n",
              "      <td>3.84</td>\n",
              "      <td>2.38</td>\n",
              "      <td>3.995862</td>\n",
              "      <td>0.029108</td>\n",
              "      <td>3.976404</td>\n",
              "      <td>63.0</td>\n",
              "      <td>46.0</td>\n",
              "      <td>38.0</td>\n",
              "      <td>147.0</td>\n",
              "    </tr>\n",
              "    <tr>\n",
              "      <th>...</th>\n",
              "      <td>...</td>\n",
              "      <td>...</td>\n",
              "      <td>...</td>\n",
              "      <td>...</td>\n",
              "      <td>...</td>\n",
              "      <td>...</td>\n",
              "      <td>...</td>\n",
              "      <td>...</td>\n",
              "      <td>...</td>\n",
              "      <td>...</td>\n",
              "    </tr>\n",
              "    <tr>\n",
              "      <th>48516</th>\n",
              "      <td>5.26</td>\n",
              "      <td>-12.62</td>\n",
              "      <td>2.40</td>\n",
              "      <td>4.322131</td>\n",
              "      <td>0.083588</td>\n",
              "      <td>4.254042</td>\n",
              "      <td>113.0</td>\n",
              "      <td>2.0</td>\n",
              "      <td>42.0</td>\n",
              "      <td>157.0</td>\n",
              "    </tr>\n",
              "    <tr>\n",
              "      <th>58559</th>\n",
              "      <td>4.84</td>\n",
              "      <td>4.02</td>\n",
              "      <td>2.83</td>\n",
              "      <td>4.320131</td>\n",
              "      <td>0.093818</td>\n",
              "      <td>4.251629</td>\n",
              "      <td>81.0</td>\n",
              "      <td>56.5</td>\n",
              "      <td>86.5</td>\n",
              "      <td>224.0</td>\n",
              "    </tr>\n",
              "    <tr>\n",
              "      <th>60069</th>\n",
              "      <td>4.87</td>\n",
              "      <td>4.24</td>\n",
              "      <td>2.67</td>\n",
              "      <td>4.099338</td>\n",
              "      <td>0.040733</td>\n",
              "      <td>4.063163</td>\n",
              "      <td>83.0</td>\n",
              "      <td>74.0</td>\n",
              "      <td>71.0</td>\n",
              "      <td>228.0</td>\n",
              "    </tr>\n",
              "    <tr>\n",
              "      <th>68954</th>\n",
              "      <td>5.42</td>\n",
              "      <td>4.24</td>\n",
              "      <td>3.04</td>\n",
              "      <td>4.016408</td>\n",
              "      <td>0.047506</td>\n",
              "      <td>3.981721</td>\n",
              "      <td>122.5</td>\n",
              "      <td>74.0</td>\n",
              "      <td>105.0</td>\n",
              "      <td>301.5</td>\n",
              "    </tr>\n",
              "    <tr>\n",
              "      <th>79132</th>\n",
              "      <td>4.76</td>\n",
              "      <td>4.24</td>\n",
              "      <td>2.27</td>\n",
              "      <td>4.107504</td>\n",
              "      <td>0.068258</td>\n",
              "      <td>4.046283</td>\n",
              "      <td>75.0</td>\n",
              "      <td>74.0</td>\n",
              "      <td>34.5</td>\n",
              "      <td>183.5</td>\n",
              "    </tr>\n",
              "  </tbody>\n",
              "</table>\n",
              "<p>134 rows × 10 columns</p>\n",
              "</div>"
            ],
            "text/plain": [
              "         predict1  predict2  predict3  ...  rank_2  rank_3  Borda_SumOfRank\n",
              "movieId                                ...                                 \n",
              "1            4.32      5.41      2.66  ...   118.0    69.0            228.0\n",
              "2            4.24      4.83      2.55  ...   107.0    56.0            201.5\n",
              "6            3.87      4.35      2.53  ...    80.0    52.0            146.5\n",
              "10           4.18      3.22      1.70  ...    22.0     9.0             63.0\n",
              "32           4.63      3.84      2.38  ...    46.0    38.0            147.0\n",
              "...           ...       ...       ...  ...     ...     ...              ...\n",
              "48516        5.26    -12.62      2.40  ...     2.0    42.0            157.0\n",
              "58559        4.84      4.02      2.83  ...    56.5    86.5            224.0\n",
              "60069        4.87      4.24      2.67  ...    74.0    71.0            228.0\n",
              "68954        5.42      4.24      3.04  ...    74.0   105.0            301.5\n",
              "79132        4.76      4.24      2.27  ...    74.0    34.5            183.5\n",
              "\n",
              "[134 rows x 10 columns]"
            ]
          },
          "metadata": {
            "tags": []
          },
          "execution_count": 38
        }
      ]
    },
    {
      "cell_type": "code",
      "metadata": {
        "id": "d3EPkK6BF1Sy",
        "outputId": "f1df1772-b9f9-471f-fe47-d4152f809472",
        "colab": {
          "base_uri": "https://localhost:8080/",
          "height": 436
        }
      },
      "source": [
        "#Test 2 with this approach i learned from here:\n",
        "#https://people.uta.fi/~kostas.stefanidis/dbir16/papers/amer-yahia09.pdf\n",
        "\n",
        "#Average Pair-wise Disagreements of groups over item i \n",
        "predicts_test2=predicts_test1.drop(['Borda_SumOfRank'],axis=1)\n",
        "predicts_test2['Disagreements'] = (abs(predicts_test2['rank_1']-predicts_test2['rank_2'])+abs(predicts_test2['rank_1']-predicts_test2['rank_3'])+abs(predicts_test2['rank_2']-predicts_test2['rank_3']))*2/(3*(3-1))\n",
        "#(Group Relevance). The relevance of an item i to a group based on average method\n",
        "predicts_test2['average'] = predicts['average']\n",
        "#Consensus function\n",
        "predicts_test2['consensus value'] = 0.8*predicts['average']-0.2*(1-predicts_test2['Disagreements'])\n",
        "predicts_test2.sort_values(by=['consensus value'], ascending=False)\n"
      ],
      "execution_count": 39,
      "outputs": [
        {
          "output_type": "execute_result",
          "data": {
            "text/html": [
              "<div>\n",
              "<style scoped>\n",
              "    .dataframe tbody tr th:only-of-type {\n",
              "        vertical-align: middle;\n",
              "    }\n",
              "\n",
              "    .dataframe tbody tr th {\n",
              "        vertical-align: top;\n",
              "    }\n",
              "\n",
              "    .dataframe thead th {\n",
              "        text-align: right;\n",
              "    }\n",
              "</style>\n",
              "<table border=\"1\" class=\"dataframe\">\n",
              "  <thead>\n",
              "    <tr style=\"text-align: right;\">\n",
              "      <th></th>\n",
              "      <th>predict1</th>\n",
              "      <th>predict2</th>\n",
              "      <th>predict3</th>\n",
              "      <th>max_pred</th>\n",
              "      <th>biggest_diff</th>\n",
              "      <th>predict_B</th>\n",
              "      <th>rank_1</th>\n",
              "      <th>rank_2</th>\n",
              "      <th>rank_3</th>\n",
              "      <th>Disagreements</th>\n",
              "      <th>average</th>\n",
              "      <th>consensus value</th>\n",
              "    </tr>\n",
              "    <tr>\n",
              "      <th>movieId</th>\n",
              "      <th></th>\n",
              "      <th></th>\n",
              "      <th></th>\n",
              "      <th></th>\n",
              "      <th></th>\n",
              "      <th></th>\n",
              "      <th></th>\n",
              "      <th></th>\n",
              "      <th></th>\n",
              "      <th></th>\n",
              "      <th></th>\n",
              "      <th></th>\n",
              "    </tr>\n",
              "  </thead>\n",
              "  <tbody>\n",
              "    <tr>\n",
              "      <th>434</th>\n",
              "      <td>28.94</td>\n",
              "      <td>1.74</td>\n",
              "      <td>0.86</td>\n",
              "      <td>3.060756</td>\n",
              "      <td>0.072316</td>\n",
              "      <td>2.997255</td>\n",
              "      <td>134.0</td>\n",
              "      <td>9.0</td>\n",
              "      <td>1.0</td>\n",
              "      <td>88.666667</td>\n",
              "      <td>3.018950</td>\n",
              "      <td>19.948493</td>\n",
              "    </tr>\n",
              "    <tr>\n",
              "      <th>5989</th>\n",
              "      <td>4.74</td>\n",
              "      <td>-35.39</td>\n",
              "      <td>3.44</td>\n",
              "      <td>3.925642</td>\n",
              "      <td>0.062059</td>\n",
              "      <td>3.871353</td>\n",
              "      <td>72.0</td>\n",
              "      <td>1.0</td>\n",
              "      <td>128.0</td>\n",
              "      <td>84.666667</td>\n",
              "      <td>3.889971</td>\n",
              "      <td>19.845310</td>\n",
              "    </tr>\n",
              "    <tr>\n",
              "      <th>1258</th>\n",
              "      <td>2.85</td>\n",
              "      <td>5.68</td>\n",
              "      <td>3.02</td>\n",
              "      <td>4.142206</td>\n",
              "      <td>0.092470</td>\n",
              "      <td>4.070575</td>\n",
              "      <td>5.0</td>\n",
              "      <td>120.0</td>\n",
              "      <td>101.5</td>\n",
              "      <td>76.666667</td>\n",
              "      <td>4.098316</td>\n",
              "      <td>18.411986</td>\n",
              "    </tr>\n",
              "    <tr>\n",
              "      <th>4878</th>\n",
              "      <td>3.34</td>\n",
              "      <td>3.83</td>\n",
              "      <td>3.32</td>\n",
              "      <td>3.994877</td>\n",
              "      <td>0.024269</td>\n",
              "      <td>3.974969</td>\n",
              "      <td>8.0</td>\n",
              "      <td>45.0</td>\n",
              "      <td>122.5</td>\n",
              "      <td>76.333333</td>\n",
              "      <td>3.982250</td>\n",
              "      <td>18.252467</td>\n",
              "    </tr>\n",
              "    <tr>\n",
              "      <th>380</th>\n",
              "      <td>6.31</td>\n",
              "      <td>6.23</td>\n",
              "      <td>1.87</td>\n",
              "      <td>3.628177</td>\n",
              "      <td>0.120833</td>\n",
              "      <td>3.525156</td>\n",
              "      <td>131.0</td>\n",
              "      <td>126.0</td>\n",
              "      <td>14.0</td>\n",
              "      <td>78.000000</td>\n",
              "      <td>3.561406</td>\n",
              "      <td>18.249125</td>\n",
              "    </tr>\n",
              "    <tr>\n",
              "      <th>...</th>\n",
              "      <td>...</td>\n",
              "      <td>...</td>\n",
              "      <td>...</td>\n",
              "      <td>...</td>\n",
              "      <td>...</td>\n",
              "      <td>...</td>\n",
              "      <td>...</td>\n",
              "      <td>...</td>\n",
              "      <td>...</td>\n",
              "      <td>...</td>\n",
              "      <td>...</td>\n",
              "      <td>...</td>\n",
              "    </tr>\n",
              "    <tr>\n",
              "      <th>349</th>\n",
              "      <td>2.65</td>\n",
              "      <td>1.76</td>\n",
              "      <td>1.83</td>\n",
              "      <td>3.623980</td>\n",
              "      <td>0.030528</td>\n",
              "      <td>3.603146</td>\n",
              "      <td>1.0</td>\n",
              "      <td>10.0</td>\n",
              "      <td>11.0</td>\n",
              "      <td>6.666667</td>\n",
              "      <td>3.612305</td>\n",
              "      <td>4.023177</td>\n",
              "    </tr>\n",
              "    <tr>\n",
              "      <th>208</th>\n",
              "      <td>3.50</td>\n",
              "      <td>2.70</td>\n",
              "      <td>1.08</td>\n",
              "      <td>2.938639</td>\n",
              "      <td>0.049135</td>\n",
              "      <td>2.900707</td>\n",
              "      <td>9.0</td>\n",
              "      <td>15.0</td>\n",
              "      <td>3.0</td>\n",
              "      <td>8.000000</td>\n",
              "      <td>2.915448</td>\n",
              "      <td>3.732358</td>\n",
              "    </tr>\n",
              "    <tr>\n",
              "      <th>316</th>\n",
              "      <td>2.83</td>\n",
              "      <td>1.43</td>\n",
              "      <td>1.85</td>\n",
              "      <td>3.490030</td>\n",
              "      <td>0.186761</td>\n",
              "      <td>3.360561</td>\n",
              "      <td>4.0</td>\n",
              "      <td>8.0</td>\n",
              "      <td>12.0</td>\n",
              "      <td>5.333333</td>\n",
              "      <td>3.416589</td>\n",
              "      <td>3.599938</td>\n",
              "    </tr>\n",
              "    <tr>\n",
              "      <th>2683</th>\n",
              "      <td>4.10</td>\n",
              "      <td>3.53</td>\n",
              "      <td>2.11</td>\n",
              "      <td>3.226094</td>\n",
              "      <td>0.045110</td>\n",
              "      <td>3.183282</td>\n",
              "      <td>26.0</td>\n",
              "      <td>32.0</td>\n",
              "      <td>24.5</td>\n",
              "      <td>5.000000</td>\n",
              "      <td>3.196815</td>\n",
              "      <td>3.357452</td>\n",
              "    </tr>\n",
              "    <tr>\n",
              "      <th>457</th>\n",
              "      <td>5.25</td>\n",
              "      <td>4.87</td>\n",
              "      <td>3.07</td>\n",
              "      <td>4.017554</td>\n",
              "      <td>0.042855</td>\n",
              "      <td>3.986834</td>\n",
              "      <td>112.0</td>\n",
              "      <td>109.5</td>\n",
              "      <td>111.0</td>\n",
              "      <td>1.666667</td>\n",
              "      <td>3.999691</td>\n",
              "      <td>3.333086</td>\n",
              "    </tr>\n",
              "  </tbody>\n",
              "</table>\n",
              "<p>134 rows × 12 columns</p>\n",
              "</div>"
            ],
            "text/plain": [
              "         predict1  predict2  predict3  ...  Disagreements   average  consensus value\n",
              "movieId                                ...                                          \n",
              "434         28.94      1.74      0.86  ...      88.666667  3.018950        19.948493\n",
              "5989         4.74    -35.39      3.44  ...      84.666667  3.889971        19.845310\n",
              "1258         2.85      5.68      3.02  ...      76.666667  4.098316        18.411986\n",
              "4878         3.34      3.83      3.32  ...      76.333333  3.982250        18.252467\n",
              "380          6.31      6.23      1.87  ...      78.000000  3.561406        18.249125\n",
              "...           ...       ...       ...  ...            ...       ...              ...\n",
              "349          2.65      1.76      1.83  ...       6.666667  3.612305         4.023177\n",
              "208          3.50      2.70      1.08  ...       8.000000  2.915448         3.732358\n",
              "316          2.83      1.43      1.85  ...       5.333333  3.416589         3.599938\n",
              "2683         4.10      3.53      2.11  ...       5.000000  3.196815         3.357452\n",
              "457          5.25      4.87      3.07  ...       1.666667  3.999691         3.333086\n",
              "\n",
              "[134 rows x 12 columns]"
            ]
          },
          "metadata": {
            "tags": []
          },
          "execution_count": 39
        }
      ]
    },
    {
      "cell_type": "code",
      "metadata": {
        "id": "-X5zZ2s7Azee"
      },
      "source": [
        ""
      ],
      "execution_count": null,
      "outputs": []
    },
    {
      "cell_type": "code",
      "metadata": {
        "id": "fVVVNlByAzjr"
      },
      "source": [
        ""
      ],
      "execution_count": null,
      "outputs": []
    },
    {
      "cell_type": "code",
      "metadata": {
        "id": "c65gRyC3Aza8"
      },
      "source": [
        ""
      ],
      "execution_count": null,
      "outputs": []
    },
    {
      "cell_type": "code",
      "metadata": {
        "id": "AS4p-kXfAzZb"
      },
      "source": [
        ""
      ],
      "execution_count": null,
      "outputs": []
    },
    {
      "cell_type": "code",
      "metadata": {
        "id": "m_VI0vCmAzX8"
      },
      "source": [
        ""
      ],
      "execution_count": null,
      "outputs": []
    },
    {
      "cell_type": "code",
      "metadata": {
        "id": "wopsaYPwAzVQ"
      },
      "source": [
        ""
      ],
      "execution_count": null,
      "outputs": []
    },
    {
      "cell_type": "code",
      "metadata": {
        "id": "e5pxGeCuAzRL"
      },
      "source": [
        ""
      ],
      "execution_count": null,
      "outputs": []
    },
    {
      "cell_type": "code",
      "metadata": {
        "id": "5Ema62GaF1bl"
      },
      "source": [
        ""
      ],
      "execution_count": null,
      "outputs": []
    },
    {
      "cell_type": "code",
      "metadata": {
        "id": "E0fJrJCoF1ab"
      },
      "source": [
        ""
      ],
      "execution_count": null,
      "outputs": []
    },
    {
      "cell_type": "code",
      "metadata": {
        "id": "wtuprHmtF1Xh"
      },
      "source": [
        ""
      ],
      "execution_count": null,
      "outputs": []
    }
  ]
}
